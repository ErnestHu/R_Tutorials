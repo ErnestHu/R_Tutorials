{
 "cells": [
  {
   "cell_type": "markdown",
   "metadata": {},
   "source": [
    "# Week 1: Welcome\n",
    "\n",
    "## About the class\n",
    "\n",
    "Welcome to PSTAT 193! This course will cover the fundamentals of programming in the R language. We will start from square one: R's data types, vectors, and dataframes. We'll then move into aggregating and grouping data with [dplyr](https://cran.r-project.org/web/packages/dplyr/dplyr.pdf) and cleaning data using [regular expressions](https://en.wikipedia.org/wiki/Regular_expression). We will finish off the quarter with an introduction to the popular [ggplot2](http://docs.ggplot2.org/current/) data visualization package.\n",
    "\n",
    "This is a 1-unit Pass/No Pass course. The grading for this class is completely dependent upon attendance <strong>and</strong> active participation. There will be a midterm exam and scoring above 75% will earn back one attendance point if you missed a lecuture in the first half of the quarter. It will not count for future missed attendances.\n",
    "\n",
    "All materials for this class are in [this](https://github.com/JasonFreeberg/R_Tutorials) GitHub repository. <strong>The syllabus for this class is the file [README.md](https://github.com/JasonFreeberg/R_Tutorials/blob/master/README.md)</strong>. Please consult that file for the lecture plan, recommended homework, more grading information, and instructors' email addresses. \n",
    "\n",
    "To set up your machine for this class, please refer to the file, [setup.md](https://github.com/JasonFreeberg/R_Tutorials/blob/master/set_up.md). To participate in this class you must download and install R, RStudio, Jupyter notebooks (through Anaconda), and the R kernel for the Jupyter notebooks. Of course you will also need download or clone [the repository](https://github.com/JasonFreeberg/R_Tutorials) for this class."
   ]
  },
  {
   "cell_type": "markdown",
   "metadata": {
    "collapsed": true
   },
   "source": [
    "## Using Jupyter Notebooks\n",
    "\n",
    "The instructors decided to use Jupyter notebooks for this course as they are a great format for teaching a programming language. These notebooks consist of cells/chunks of [markdown](https://en.wikipedia.org/wiki/Markdown) and R code. The markdown cells will introduce and explain a topic, and the code cells will show a completed exmaple.\n",
    "\n",
    "The lectures are lightly sprinkled with short expercises to keep you engaged. Then there will be a series of exercises at the end of class, increasing in difficulty. And we hate to be the bearers of bad news, but coming to lecture just to listen won't help--you need to write R to learn R!"
   ]
  },
  {
   "cell_type": "code",
   "execution_count": 7,
   "metadata": {
    "collapsed": false
   },
   "outputs": [
    {
     "data": {
      "text/html": [
       "<table>\n",
       "<thead><tr><th scope=col>Sepal.Length</th><th scope=col>Sepal.Width</th><th scope=col>Petal.Length</th><th scope=col>Petal.Width</th><th scope=col>Species</th></tr></thead>\n",
       "<tbody>\n",
       "\t<tr><td>5.1   </td><td>3.5   </td><td>1.4   </td><td>0.2   </td><td>setosa</td></tr>\n",
       "\t<tr><td>4.9   </td><td>3.0   </td><td>1.4   </td><td>0.2   </td><td>setosa</td></tr>\n",
       "\t<tr><td>4.7   </td><td>3.2   </td><td>1.3   </td><td>0.2   </td><td>setosa</td></tr>\n",
       "\t<tr><td>4.6   </td><td>3.1   </td><td>1.5   </td><td>0.2   </td><td>setosa</td></tr>\n",
       "\t<tr><td>5.0   </td><td>3.6   </td><td>1.4   </td><td>0.2   </td><td>setosa</td></tr>\n",
       "\t<tr><td>5.4   </td><td>3.9   </td><td>1.7   </td><td>0.4   </td><td>setosa</td></tr>\n",
       "</tbody>\n",
       "</table>\n"
      ],
      "text/latex": [
       "\\begin{tabular}{r|lllll}\n",
       " Sepal.Length & Sepal.Width & Petal.Length & Petal.Width & Species\\\\\n",
       "\\hline\n",
       "\t 5.1    & 3.5    & 1.4    & 0.2    & setosa\\\\\n",
       "\t 4.9    & 3.0    & 1.4    & 0.2    & setosa\\\\\n",
       "\t 4.7    & 3.2    & 1.3    & 0.2    & setosa\\\\\n",
       "\t 4.6    & 3.1    & 1.5    & 0.2    & setosa\\\\\n",
       "\t 5.0    & 3.6    & 1.4    & 0.2    & setosa\\\\\n",
       "\t 5.4    & 3.9    & 1.7    & 0.4    & setosa\\\\\n",
       "\\end{tabular}\n"
      ],
      "text/plain": [
       "  Sepal.Length Sepal.Width Petal.Length Petal.Width Species\n",
       "1 5.1          3.5         1.4          0.2         setosa \n",
       "2 4.9          3.0         1.4          0.2         setosa \n",
       "3 4.7          3.2         1.3          0.2         setosa \n",
       "4 4.6          3.1         1.5          0.2         setosa \n",
       "5 5.0          3.6         1.4          0.2         setosa \n",
       "6 5.4          3.9         1.7          0.4         setosa "
      ]
     },
     "metadata": {},
     "output_type": "display_data"
    },
    {
     "name": "stdout",
     "output_type": "stream",
     "text": [
      "[1] \"README.md is the syllabus.\"\n",
      "[1] \"Homework will be from DataCamp.com.\"\n"
     ]
    }
   ],
   "source": [
    "# Use shift+return to run a code cell\n",
    "\n",
    "aVector <- c(\"README.md\", \"is\", \"the\", \"syllabus.\")\n",
    "anotherVector <- c(\"Homework\", \"will\", \"be\", \"from\", \"DataCamp.com.\")\n",
    "\n",
    "# Functions that would print output to the console in RStudio will\n",
    "# print directly below the code cell in which they are executed\n",
    "\n",
    "head(iris)\n",
    "print(paste(aVector, collapse=\" \"))\n",
    "print(paste(anotherVector, collapse=\" \"))"
   ]
  },
  {
   "cell_type": "markdown",
   "metadata": {
    "collapsed": true
   },
   "source": [
    "## Why R?\n",
    "\n",
    "R is an open-source programming language based off another language, <a href=\"https://en.wikipedia.org/wiki/S_(programming_language)\">S</a>\\*. And since it has recently become much cheaper for companies to store and analyse data, many businesses and organizations have turned to R to work with amounts of data that Excel cannot handle. Python has also become a popular tool for data scientists thanks to packages like [pandas](http://pandas.pydata.org) and [scikit-learn](http://scikit-learn.org/stable/).\n",
    "\n",
    "<img src=\"http://spectrum.ieee.org/image/Mjc5MjI0Ng.png\", width=\"500\">\n",
    "\n",
    "Moreover, R is a [very popular](http://spectrum.ieee.org/static/interactive-the-top-programming-languages-2016) language. If you're aiming to work in an analytical role in any industry you should begin filling your \"data science toolbox\" before you start applying. Now that Spark's support for R is growing, the language will likely be around for years to come.\n",
    "\n",
    "<em>\\* How did R get its name? R comes before S!</em>"
   ]
  },
  {
   "cell_type": "markdown",
   "metadata": {},
   "source": [
    "## Getting the most from this class\n",
    "\n",
    "The lectures are designed to be programming tutorials. By the end of the quarter you should feel confident enough to download a dataset from [UCI]() or [Kaggle](), import it into R, clean it, and make some exploratory visualizations with <code>ggplot2</code>. <em>But</em> all that is <strong>directly dependent</strong> on your level of participation in the class. Doing the in-class exercises, suggested homework, and asking questions <strong>will</strong> get you there, but browsing Facebook during lecture will not.\n",
    "\n",
    "The suggested homework will primarily be from [DataCamp.com](https://www.datacamp.com/courses/tech:r). It is an interactive webapp for learning the basics of Python and R for data science. Aaron and Jason also included hyperlinks in the Markdown sections of the notebooks. These will lead you on to websites for more information on that lecuture's topics.\n",
    "\n",
    "Lastly, the best way to learn anything is just do it. Find a dataset, make a goal, and open RStudio. It <em>will</em> be difficult, you <em>will</em> get error messages, and you <em>will</em> get better. The ability to challenge youself <em>and learn</em> is what seperates the job-seekers from the job-havers."
   ]
  }
 ],
 "metadata": {
  "kernelspec": {
   "display_name": "R",
   "language": "R",
   "name": "ir"
  },
  "language_info": {
   "codemirror_mode": "r",
   "file_extension": ".r",
   "mimetype": "text/x-r-source",
   "name": "R",
   "pygments_lexer": "r",
   "version": "3.3.2"
  }
 },
 "nbformat": 4,
 "nbformat_minor": 0
}
