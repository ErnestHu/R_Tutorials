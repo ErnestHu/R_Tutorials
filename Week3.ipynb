{
 "cells": [
  {
   "cell_type": "markdown",
   "metadata": {},
   "source": [
    "# Week 3: User-Defined Functions (UDFs) and Lists"
   ]
  },
  {
   "cell_type": "markdown",
   "metadata": {},
   "source": [
    "## Lesson Summary: \n",
    "\n",
    "**Built-in Functions**\n",
    "    - Numerical / Statistical\n",
    "    - Segway into students making the functions themselves.\n",
    "\n",
    "**UDFs**\n",
    "    - Make your code DRY\n",
    "    - Divide and conquer\n",
    "\n",
    "**Exercise: Mean and Variance**\n",
    "\n",
    "**Lists**\n",
    "    - Generating\n",
    "        - Named lists\n",
    "    - Subsetting\n",
    "    - Use cases"
   ]
  },
  {
   "cell_type": "markdown",
   "metadata": {},
   "source": [
    "## Functions:\n",
    "\n",
    "\n",
    "### What are functions? \n",
    "\n",
    "- Functions are what makes coding, *coding*. The primary purpose of a function is to manipulate the different objects created in R.\n",
    "\n",
    "- Creating your own functions will ultimately help you more efficiently accomplish tasks that would normally take you more time than you need to exhaust. \n",
    "\n",
    "- Functions have an input and an output. \n",
    "\n",
    "- Functions act as an operator, just like basic arithmetic symbols (e.g. +, -, /, etc.).\n",
    "\n",
    "- You call a function when you want to complete a specified task.\n",
    "\n",
    "\n",
    "\n",
    "## Built-In Functions\n",
    "\n",
    "To begin, let's first see what functions can do in the R programming language. \n",
    "\n",
    "\n",
    "\n",
    "**General**\n",
    "\n",
    "- length(x)      *# Return no. of elements in vector x*\n",
    "\n",
    "- range(x)       *# Returns the minimum and maximum of x*\n",
    "\n",
    "\n",
    "\n",
    "\n",
    "**Math**\n",
    "\n",
    "- abs(x)         *# The absolute value of \"x\"*\n",
    "\n",
    "- log(x), exp()  *# Fairly obvious*\n",
    "\n",
    "- cos(),sin(),tan(),acos(),asin(),atan(),atan2()       *# Usual stuff*\n",
    "\n",
    "- eigen()      *# Computes eigenvalues and eigenvectors*\n",
    "\n",
    "- deriv()      *# Symbolic and algorithmic derivatives of simple expressions*\n",
    "\n",
    "- integrate()  *# Adaptive quadrature over a finite or infinite interval*\n",
    "\n",
    "\n",
    "\n",
    "\n",
    "**Graphical**\n",
    "\n",
    "- plot()                *# Generic function for plotting of R objects*\n",
    "\n",
    "- curve(5*x^3,add=T)    *# Plot an equation as a curve*\n",
    "\n",
    "- points(x,y)           *# Add another set of points to an existing graph*\n",
    "\n",
    "- hist(x)               *# Plot a histogram of x*\n",
    "\n",
    "- pdf()                 *# Plot to pdf file*\n",
    "\n",
    "- png()                 *# Plot to PNG file*\n",
    "\n",
    "- jpeg()                *# Plot to JPEG file*\n",
    "\n",
    "\n",
    "\n",
    "\n",
    "**Statistical**\n",
    "\n",
    "- mean(x)\n",
    "\n",
    "- var(x)\n",
    "\n",
    "- median(x)\n",
    "\n",
    "- min(x)\n",
    "\n",
    "- max(x)\n",
    "\n",
    "- summary(x)            # Returns a summary of x: mean, min, max etc.\n",
    "\n",
    "\n",
    "\n",
    "Visit [\"A list of useful functions in R\"](http://www.sr.bham.ac.uk/~ajrs/R/r-function_list.html) for more advanced and detailed built-in functions!\n",
    "\n"
   ]
  },
  {
   "cell_type": "markdown",
   "metadata": {},
   "source": [
    "## User-Defined Functions -- Creating Your Own Functions\n",
    "\n",
    "Sometimes, R just won't have the function you need. Thus, you must make the function you *deserve*. \n",
    "\n",
    "How do you do so? Look no further!\n",
    "\n",
    "\n",
    "\n",
    "**Note**\n",
    "\n",
    "- Make sure that the variable that you place in the input is defined, either in the local environment of the function or the global environment. \n",
    "\n",
    "\n",
    "\n",
    "### UDFs\n"
   ]
  },
  {
   "cell_type": "code",
   "execution_count": null,
   "metadata": {
    "collapsed": true
   },
   "outputs": [],
   "source": [
    "# anatomy of a function\n",
    "\n",
    "function_name <- function(argument_1, argument_2) {\n",
    "    body\n",
    "}"
   ]
  },
  {
   "cell_type": "markdown",
   "metadata": {},
   "source": [
    "### How To Use Your Functions\n",
    "\n",
    "**It's really simple. Follow the steps below!**\n",
    "\n"
   ]
  },
  {
   "cell_type": "code",
   "execution_count": null,
   "metadata": {
    "collapsed": true
   },
   "outputs": [],
   "source": [
    "# 1) Make your function using the structure above.\n",
    "function_name <- function(x) {\n",
    "    x + 1 * 10\n",
    "}\n",
    "\n",
    "# 2) Once you are done, you need to call on it to send it to your environment. \n",
    "# Run the function!\n",
    "function_name <- function(x) {\n",
    "    x + 1 * 10\n",
    "}\n",
    "\n",
    "# 3) Create an arbitary variable. It can literally be anything.\n",
    "anything <- 'literally'\n",
    "valid <- 3\n",
    "\n",
    "# 4) Now call the function with the variable made earlier.\n",
    "function_name(anything)\n",
    "function_name(valid)\n",
    "\n",
    "# 5) Now look at your environment, scroll to the function category, and check to see if your function appeared! This should appear regardless if your variable was a valid input of the function. (e.g. you receive something like this 'argument is not numeric or logical: returning NA') "
   ]
  },
  {
   "cell_type": "markdown",
   "metadata": {},
   "source": [
    "## Useful Things To Know When Creating A Function\n",
    "\n",
    "\n",
    "\n",
    "**Ctrl + C**\n",
    "\n",
    "- Pressing 'Ctrl + C' will quit a processing function, if-loop, while-loop, or any operation that prevents you from utilizing R. (Also called killing a process/killing running code)\n",
    "\n",
    "\n",
    "**return(value)**\n",
    "\n",
    "- return() ==> under certain circumstances, you might want to use this to quit a function early\n",
    "\n",
    "\n",
    "**?(function_name)**\n",
    "\n",
    "- ?(function_name) ==> will bring you to R documentation and show you usage, **arguments**, values, and *examples*\n",
    "\n",
    "\n",
    "**args(function_name)**\n",
    "\n",
    "- args() ==> shortcut which gives you arguments of a function\n",
    "\n",
    "\n",
    "**Miscellaneous**\n",
    "\n",
    "- You can manipulate R in the same way you would treat an object. \n",
    "    - Examples of this would be:\n",
    "        - Reassigning the function to a variable with a different name        \n",
    "        "
   ]
  },
  {
   "cell_type": "markdown",
   "metadata": {},
   "source": [
    "## Excercise #1:"
   ]
  },
  {
   "cell_type": "markdown",
   "metadata": {
    "collapsed": true
   },
   "source": [
    "### Create your own function: \n",
    "\n",
    "Convert the temperature units, Celcius, to the units, Fahrenheit. \n",
    "\n",
    "Once you are done, convert Fahrenheit to Celsius.\n",
    "\n",
    "You are given the following formula:\n",
    "\n",
    "![Image of C to F/F to C Formula](http://www.101computing.net/wp/wp-content/uploads/fahrenheit_to_celsius_formulas.png)\n",
    "\n"
   ]
  },
  {
   "cell_type": "markdown",
   "metadata": {},
   "source": [
    "## Exercise #2:"
   ]
  },
  {
   "cell_type": "markdown",
   "metadata": {},
   "source": [
    "**Create a function that helps you more quickly calculate the averages in a vector more quickly. (Yes, this is already a built-in function. Try to figure out its anatomy on your own though! It's good practice.)**"
   ]
  },
  {
   "cell_type": "code",
   "execution_count": null,
   "metadata": {
    "collapsed": true
   },
   "outputs": [],
   "source": [
    "#  _________ EXERCISE _________\n",
    "\n",
    "\n",
    "# Create a function that makes calculating the average of the values in a \n",
    " # vector quicker. (Yes, this is already built in.)\n",
    "\n",
    "\n",
    "# Take a look at the function, mean(), break down how the function works, then\n",
    " # reconstruct it in function form.\n",
    "\n",
    "\n",
    "\n",
    "# Keep in mind that there are always multiple ways to create a function! \n",
    " # Some may take some more time to execute; other strategies may be quicker to \n",
    " # execute, even by just a few nanoseconds!\n",
    "\n",
    "\n",
    "\n",
    "# Let's break down the function, ' mean() ':\n",
    " # As you might know, the function, mean, *means* average--the sum of a group \n",
    " # of numbers, divided by the number of numbers in the group. \n",
    "\n",
    "\n",
    "\n",
    "# Thus you might think of something similar to the following:\n",
    "\n",
    "mean_UDF <- function(<FILL IN>) {\n",
    "  <FILL IN>\n",
    "}"
   ]
  },
  {
   "cell_type": "markdown",
   "metadata": {},
   "source": [
    "## Excercise #3:"
   ]
  },
  {
   "cell_type": "markdown",
   "metadata": {},
   "source": [
    "Now let's step it up a notch. Let's try **variance**! [The variance is the average of the squared differences from the mean.](http://www.mathsisfun.com/data/standard-deviation.html) If you are not familiar with variance or need to be refreshed on the topic, click on the link prior!\n",
    "\n",
    "Try to figure out how to make a function for variance. Remember, there are multiple solutions for this excercise!"
   ]
  },
  {
   "cell_type": "markdown",
   "metadata": {},
   "source": [
    "## Excercise #4:"
   ]
  },
  {
   "cell_type": "markdown",
   "metadata": {},
   "source": [
    "### Challenge Problem:\n",
    "\n",
    "Create a function that outputs the second largest number in a matrix. \n",
    "\n",
    "\n",
    "**Hint 1:**\n",
    "\n",
    "Here a quick way to generate a random matrix to see if your function works!\n",
    "- <code> replicate(5, rnorm(5)) </code> \n",
    "- Expect something along the lines of this, but different numbers\n"
   ]
  },
  {
   "cell_type": "code",
   "execution_count": null,
   "metadata": {
    "collapsed": true
   },
   "outputs": [],
   "source": [
    ">         [,1]        [,2]        [,3]        [,4]\n",
    "\n",
    "> [1,] -0.4386910   -1.6518913  0.6486602   0.35054001\n",
    "\n",
    "> [2,] -0.5263067   -0.1038436  -0.6189868  1.60853842\n",
    "\n",
    "> [3,] -0.7413896   0.3776236   0.3189630   -0.13850185\n",
    "\n",
    "> [4,] -0.4696661   0.6092193   0.6877337   1.68501153\n",
    "\n",
    "> [5,]  0.9611014   0.0975538   0.8344805   -0.05673202\n",
    "\n",
    ">             [,5]\n",
    "\n",
    "> [1,]  0.37456409\n",
    "\n",
    "> [2,] -1.03342478\n",
    "\n",
    "> [3,] -0.70093245\n",
    "\n",
    "> [4,] -0.02589409\n",
    "\n",
    "> [5,]  0.94647790"
   ]
  },
  {
   "cell_type": "markdown",
   "metadata": {},
   "source": [
    "**Hint 2:** \n",
    "\n",
    "If you don't quite understand the question, here's some clarification. Above is a 5x5 matrix. You are asked to find the number with the *second largest* value in the matrix. By observation, you'll find that 1.60853842 is the second largest number. How did you find that? Can you put your logical thoughts in the form of a code?\n",
    "\n",
    "\n",
    "**Hint 3:** \n",
    "\n",
    "Can you find the second largest number in a vector?\n",
    "\n"
   ]
  },
  {
   "cell_type": "markdown",
   "metadata": {},
   "source": [
    "**Hint 4:**"
   ]
  },
  {
   "cell_type": "code",
   "execution_count": null,
   "metadata": {
    "collapsed": true
   },
   "outputs": [],
   "source": [
    "# you use a 'for loop' when you don't want to keep writing a command over and over and over...\n",
    "# use 'for loops' when you're lazy or smart :3\n",
    "\n",
    "for (*index* in *array*){\n",
    "  statement\n",
    "}"
   ]
  },
  {
   "cell_type": "markdown",
   "metadata": {},
   "source": [
    "**Hint 5:**"
   ]
  },
  {
   "cell_type": "code",
   "execution_count": null,
   "metadata": {
    "collapsed": true
   },
   "outputs": [],
   "source": [
    "# an 'if statement' is used you want a command to be executed after a condition is fulfilled.\n",
    "# you can combine this tool with the 'for loop'\n",
    "\n",
    "if (test_expression) {\n",
    "   statement\n",
    "}"
   ]
  },
  {
   "cell_type": "code",
   "execution_count": null,
   "metadata": {
    "collapsed": true
   },
   "outputs": [],
   "source": [
    "# ONLY LOOK AT THIS IF YOU ARE COMPLETELY STUCK AND YOU HAVE NO IDEA WHAT TO DO!!\n",
    "# Below is a fill-in-the-blank hint!\n",
    " \n",
    "\n",
    "\n",
    "\n",
    "\n",
    "\n",
    "\n",
    "\n",
    "# ARE YOU SURE? THINK A LITTLE HARDER IF YOU'RE STRUGGLING.\n",
    "\n",
    "\n",
    "\n",
    "\n",
    "\n",
    "\n",
    "\n",
    "\n",
    "\n",
    "# Hint 6:\n",
    "second_largest <- <FILL IN>(rand)\n",
    "  \n",
    "rand <- replicate(5, rnorm(5))\n",
    "\n",
    "largest <- <FILL IN>\n",
    "for (i in <FILL IN>){\n",
    "  if(<FILL IN>) {\n",
    "    <FILL IN>\n",
    "  }\n",
    "}\n",
    "\n",
    "second <- <FILL IN>\n",
    "for (<FILL IN>){\n",
    "  if(<FILL IN>) {\n",
    "    <FILL IN>\n",
    "  }\n",
    "}\n",
    "\n",
    "print(rand)\n",
    "print(second)"
   ]
  },
  {
   "cell_type": "markdown",
   "metadata": {},
   "source": [
    "#### Your output should look something like this (but probably with different numbers:\n",
    "\n",
    "Check yourself to see if your code actually output the second largest number!\n"
   ]
  },
  {
   "cell_type": "code",
   "execution_count": null,
   "metadata": {
    "collapsed": true
   },
   "outputs": [],
   "source": [
    ">     print(rand)\n",
    "            [,1]       [,2]        [,3]       [,4]       [,5]\n",
    "[1,]  1.22459413 -0.6863706 -0.05042041 -0.1114614  0.3662244\n",
    "[2,] -0.19765781  1.9087161  0.60332108  0.3450471  0.9855776\n",
    "[3,] -0.01638604  0.8648472  1.78158580  0.7674530 -2.1440592\n",
    "[4,]  0.16362135  1.5585552  1.45021696  0.5705995 -1.0773751\n",
    "[5,] -0.82824386  1.0014212 -1.00584427 -1.3149331 -0.3898746\n",
    "\n",
    ">     print(second)\n",
    "[1] 1.781586"
   ]
  },
  {
   "cell_type": "markdown",
   "metadata": {
    "collapsed": true
   },
   "source": [
    "## Lists:\n",
    "\n",
    "Transitioning into from the basics of R, we will now learn about lists, one of the crucial fundamentals in future data science endeavors.\n",
    "\n",
    "Lists will open a gateway to group different objects, whether individually or in a vector, into a succinct bundle. This can be especially helpful when you want to compare differences in a neat format.\n",
    "\n",
    "\n",
    "\n",
    "### Quick Review of Vectors:\n",
    "\n",
    "Each vector will be comprised of either characters, numerics, integers, boolean, or complex objects. They will follow the syntax below...\n",
    "\n",
    "    - <code> vector_variable <- c('objects', 'separated', 'by', 'commas') </code>\n",
    "\n",
    "==========================================================\n",
    "\n",
    "- character ... <code> dms <- c(\"s\", \"e\", \"n\", \"d\", \"n\", \"u\") </code>\n",
    "- numeric ..... <code> int <- c(1.1, 2.2, 3.3, 5.5, 8.8) </code>\n",
    "- integer ..... <code> num <- c(1, 2, 3, 5) </code>\n",
    "- boolean ..... <code> boo <- c(TRUE, FALSE, T, F) </code>\n",
    "- complex ..... <code> cpx <- c(3 + i, -1 + 3i) </code>\n",
    "\n",
    "Notice how dms has 6 elements, int has 5 elements, num has 4 elements, boo has 4 elements, and cpx has 2 elements.\n",
    "\n",
    "\n",
    "\n",
    "### Lists: \"Bundling\" Vectors\"\n",
    "\n",
    "When you hear the word list, one may think of a group of individual components in a vector-like form, like a grocery list! In the most rudimentary sense, a \"list\" in the context of the R programming language is actually a \"list of lists\".\n",
    "    \n",
    "Each list will follow the format \n",
    "\n",
    "- <code> list_variable <- list(vector_1, vector_2, vector_3) </code>\n",
    "\n",
    "For example,\n",
    "\n",
    "(input)  ==> <code> bundle <- list(dms, int, num, boo, cpx) </code>\n",
    "\n",
    "(output) ==> <code> bundle\n",
    "                    [[1]]\n",
    "                    [1] \"s\" \"e\" \"n\" \"d\" \"n\" \"u\"\n",
    "                    [[2]]\n",
    "                    [1] 1.1 2.2 3.3 5.5 8.8\n",
    "                    [[3]]\n",
    "                    [1] 1 2 3 5\n",
    "                    [[4]]\n",
    "                    [1] TRUE FALSE T F\n",
    "                    [[5]]\n",
    "                    [1] 3+i -1+3i\n",
    "            </code>\n"
   ]
  },
  {
   "cell_type": "markdown",
   "metadata": {},
   "source": [
    "**NOTE**: By deduction, you can see that dms corresponds to [[1]], int to [[2]], and etc. Also if you notice, there are number in single square brackets and numbers in double square brackets. The single brackets indicate vectors, matrices, arrays, and data frames (all of which are either 1D vectors or 2D squares). The double brackets indicate subscripts on lists.\n",
    "\n",
    "\n",
    "For example, if you want to pull the fourth vector from \"bundle\", simply type...\n",
    "<code> \n",
    "    bundle[[4]] \n",
    "    \n",
    "    [1] TRUE FALSE T F   \n",
    "</code>\n",
    "\n",
    "\n",
    "If you want to extract the second element from the fourth vector of the list, simply type...\n",
    "<code>  \n",
    "    bundle[[4]][2]\n",
    "    \n",
    "    [1] FALSE    \n",
    "</code>\n",
    "\n",
    "\n",
    "Luckily, if you be slippin', R has got yo back. Worry not if you forget the double brackets when you want to extract a vector from a list. However, know that you will encounter an error message if you try to extract an element from a vector from a list. See below...\n",
    "\n",
    "    You is GUCCI:\n",
    "    INPUT : bundle[4]\n",
    "    OUTPUT: [1] TRUE FALSE T F\n",
    "\n",
    "    You is NOT gucci:\n",
    "    INPUT : bundle[4][2]\n",
    "    OUTPUT: NULL\n",
    "    \n",
    "\n"
   ]
  },
  {
   "cell_type": "markdown",
   "metadata": {
    "collapsed": true
   },
   "source": [
    "### Subscripting/Subsetting:\n",
    "\n",
    "In programming, you use a subscript to identify elements in an array. In this context, we will also learn how to use subscripts in a list. \n",
    "\n",
    "Now say you want to have a \"matrix-like\" structure to organize your data. Now you want to extract some data. "
   ]
  },
  {
   "cell_type": "code",
   "execution_count": null,
   "metadata": {
    "collapsed": true
   },
   "outputs": [],
   "source": [
    "# _____Example_____\n",
    "\n",
    "#Given:\n",
    "people <- list(name = \"Danny\", friend = \"Kenny\", common_interests = 3, interest_names = c(\"basketball\", \"video games\", \"21\"))\n",
    "\n",
    "# **Notice how 21 in the vector, interest_names, is displayed as a character! Not a numeric.\n",
    "\n",
    "# Remember that each element in the list has a number assigned to it and each vector element has a number assigned to it based \n",
    "## on the order the elements are written.\n",
    "# Usually, subscripts will be placed in brackets as an input, following the array's name. Outputted will be whatever is assigned\n",
    "##under that array's name.\n",
    "\n",
    "people[[1]] == name\n",
    "people[[2]] == friend\n",
    "people[[3]] == common_interests\n",
    "people[[4]] == interest_names\n",
    "\n",
    "people[[4]][1] == \"basketball\"\n",
    "people[[4]][2] == \"video games\"\n",
    "people[[4]][3] == \"21\""
   ]
  },
  {
   "cell_type": "markdown",
   "metadata": {},
   "source": [
    "**WAIT!!!** Okay, this is cool if you have a small list with not a lot of items. What if your list is enormous??\n",
    "Luckily, R has a way to solve this problem if you know what the name of the vector in your list is, but not its' position.\n",
    "\n",
    "====================================================================\n",
    "\n",
    "**The format follows,** \n",
    "\n",
    "<code> list_name$component_name </code>\n",
    "\n"
   ]
  },
  {
   "cell_type": "code",
   "execution_count": null,
   "metadata": {
    "collapsed": true
   },
   "outputs": [],
   "source": [
    "#For example, let's say we forget how to count to 4 but we know that \"interest_names\" is SOMEWHERE in our list! Simply type...\n",
    "people$interest_names\n",
    "#...and the vector assigned under interest_names should be outputted!\n",
    "\n",
    "#For more emphasis,\n",
    "people$name             == people[[1]] == \"Danny\"\n",
    "people$friend           == people[[2]] == \"Kenny\"\n",
    "people$common_interests == people[[3]] == 3\n",
    "people$interest_names   == people[[4]] == c(\"basketball\", \"video games\", \"21\")\n",
    "\n",
    "#additionally,\n",
    "people$interest_names[1] == \"basketball\"\n",
    "people$interest_names[2] == \"video games\"\n",
    "people$interest_names[3] == \"21\""
   ]
  },
  {
   "cell_type": "markdown",
   "metadata": {},
   "source": [
    "### Modifying Lists\n",
    "\n",
    "When you want to add an object to a pre-existing list, follow the steps below...\n"
   ]
  },
  {
   "cell_type": "code",
   "execution_count": null,
   "metadata": {
    "collapsed": true
   },
   "outputs": [],
   "source": [
    "# _____Example______\n",
    "\n",
    "# 1) current list:\n",
    "list_name <- list(name = \"Danny\", \n",
    "                  friend = \"Kenny\", \n",
    "                  common_interests = 3, \n",
    "                  interest_names = c(\"basketball\", \"video games\", \"21\"))\n",
    "\n",
    "\n",
    "# 2) you want your new list to look like this\n",
    "list_name <- list(name = \"Danny\", \n",
    "                  friend = \"Kenny\", \n",
    "                  common_interests = 3, \n",
    "                  interest_names = c(\"basketball\", \"video games\", \"21\", \"coding R\"))\n",
    "\n",
    "\n",
    "# 3) What do you do?? Follow the code below!\n",
    "list_name     == original_list\n",
    "new_list      == modified_list\n",
    "interest_names== vector_you_want_to_add_object\n",
    "\"coding R\"    == element_want_added\n",
    "\n",
    "modified_list <- c(original_list, vector_you_want_to_add_object = element_want_added)\n",
    "\n",
    "\n",
    "# 4) which is equal to...\n",
    "new_list <- c(list_name,  interest_names = \"coding R\")\n",
    "\n",
    "\n",
    "# 5) which should output...\n",
    "new_list <- list(name = \"Danny\", \n",
    "                  friend = \"Kenny\", \n",
    "                  common_interests = 3, \n",
    "                  interest_names = c(\"basketball\", \"video games\", \"21\", \"coding R\"))\n",
    "\n"
   ]
  },
  {
   "cell_type": "markdown",
   "metadata": {},
   "source": [
    "## Congratulations!\n",
    "You're done with tonight's exercises! Check back to [the syllabus](https://github.com/JasonFreeberg/R_Tutorials/blob/master/README.md) for this week's homework and a quick look at next week's topics. \n",
    "\n",
    "**Suggested Homework:**\n",
    "    - DataCamp: **Introduction** to R\n",
    "        - Chapters 4 and 5: Factors and Dataframes\n",
    "    - DataCamp: **Intermediate** R\n",
    "        - Chapters 1 to 3: Contiditionals and Control Flow, Loops, and Functions"
   ]
  }
 ],
 "metadata": {
  "anaconda-cloud": {},
  "kernelspec": {
   "display_name": "R",
   "language": "R",
   "name": "ir"
  },
  "language_info": {
   "codemirror_mode": "r",
   "file_extension": ".r",
   "mimetype": "text/x-r-source",
   "name": "R",
   "pygments_lexer": "r",
   "version": "3.2.3"
  }
 },
 "nbformat": 4,
 "nbformat_minor": 0
}
