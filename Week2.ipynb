{
 "cells": [
  {
   "cell_type": "markdown",
   "metadata": {},
   "source": [
    "# Week 2: Basics of R\n",
    "\n",
    "Today we will cover the fundamental building blocks of R.\n",
    "\n",
    "## Types and Common Objects\n",
    "There are five fundamental types in R. They are...\n",
    "- character ...... \"this and\", \"t\", \"h\", \"a\", \"t\"\n",
    "- numeric ........ 3.14159, 12.345689\n",
    "- integer ........ 1, 3, 10, 9, -1\n",
    "- boolean (T/F) .. TRUE, FALSE, T, F\n",
    "- complex ........ 3 + i, -1 + 3i\n",
    "\n",
    "Some other special types in R are\n",
    "- Inf ... infinity\n",
    "- NaN ... Not A Number\n",
    "- NA .... Not Applicable\n",
    "\n",
    "And the most common object you will use in R is the **vector**\n",
    "- <code>c(1,2,3,4), c(), c(\"some\", \"elements\")</code>\n",
    "- *Note* that we can make **lists** which can hold multiple types or objects of different classes. We will cover lists next week.\n",
    "\n",
    "Functions are much like common programming languages\n",
    "- <code>abs(-5), sum(c(1,1,2,3,5,8)), ggplot(iris)</code>"
   ]
  },
  {
   "cell_type": "code",
   "execution_count": 1,
   "metadata": {
    "collapsed": false
   },
   "outputs": [
    {
     "name": "stdout",
     "output_type": "stream",
     "text": [
      "[1] 0.786151+1.27202i\n",
      "[1] TRUE\n",
      "[1] \"PSTAT is awesome\"\n"
     ]
    }
   ],
   "source": [
    "# We don't need to specify the type/class on declaration like C++ or Scala.\n",
    "\n",
    "# Remember, R has one class for both strings and characters\n",
    "char <- \"!\"\n",
    "also_char <- \"PSTAT is awesome\"\n",
    "\n",
    "# I need to use \"L\" to specify a number to be an Int\n",
    "integer <- 1L\n",
    "not_int <- 3.3333333\n",
    "\n",
    "# 1 and 0 can be interpreted as TRUE and FALSE\n",
    "false <- 1\n",
    "true <- FALSE\n",
    "\n",
    "# Since R is a statistical computing environment, it make sense that\n",
    "# it would have a built-in type just for complex numbers\n",
    "complex = -1 + 2i\n",
    "\n",
    "if(false){\n",
    "    print(sqrt(complex))\n",
    "    \n",
    "    print(!FALSE)\n",
    "    \n",
    "    print(also_char)\n",
    "}"
   ]
  },
  {
   "cell_type": "code",
   "execution_count": 20,
   "metadata": {
    "collapsed": false
   },
   "outputs": [
    {
     "data": {
      "text/html": [
       "<ol class=list-inline>\n",
       "\t<li>121</li>\n",
       "\t<li>132</li>\n",
       "\t<li>134</li>\n",
       "\t<li>178</li>\n",
       "\t<li>198</li>\n",
       "</ol>\n"
      ],
      "text/latex": [
       "\\begin{enumerate*}\n",
       "\\item 121\n",
       "\\item 132\n",
       "\\item 134\n",
       "\\item 178\n",
       "\\item 198\n",
       "\\end{enumerate*}\n"
      ],
      "text/markdown": [
       "1. 121\n",
       "2. 132\n",
       "3. 134\n",
       "4. 178\n",
       "5. 198\n",
       "\n",
       "\n"
      ],
      "text/plain": [
       "[1] 121 132 134 178 198"
      ]
     },
     "metadata": {},
     "output_type": "display_data"
    },
    {
     "data": {
      "text/html": [
       "<ol class=list-inline>\n",
       "\t<li>120</li>\n",
       "\t<li>260</li>\n",
       "\t<li>393</li>\n",
       "\t<li>696</li>\n",
       "\t<li>965</li>\n",
       "</ol>\n"
      ],
      "text/latex": [
       "\\begin{enumerate*}\n",
       "\\item 120\n",
       "\\item 260\n",
       "\\item 393\n",
       "\\item 696\n",
       "\\item 965\n",
       "\\end{enumerate*}\n"
      ],
      "text/markdown": [
       "1. 120\n",
       "2. 260\n",
       "3. 393\n",
       "4. 696\n",
       "5. 965\n",
       "\n",
       "\n"
      ],
      "text/plain": [
       "[1] 120 260 393 696 965"
      ]
     },
     "metadata": {},
     "output_type": "display_data"
    }
   ],
   "source": [
    "# Some operations on vectors\n",
    "first_vector <- c(120, 130, 131, 174, 193)\n",
    "second_vector <- c(1, 2, 3, 4, 5)\n",
    "\n",
    "added_together <- first_vector + second_vector\n",
    "product <- first_vector * second_vector\n",
    "\n",
    "# The operations are element-wise\n",
    "added_together\n",
    "product"
   ]
  },
  {
   "cell_type": "code",
   "execution_count": 10,
   "metadata": {
    "collapsed": false
   },
   "outputs": [
    {
     "ename": "ERROR",
     "evalue": "Error in parse(text = x, srcfile = src): <text>:4:13: unexpected '<'\n3: # Make two variables, both with numeric types\n4: number_1 <- <\n               ^\n",
     "output_type": "error",
     "traceback": [
      "Error in parse(text = x, srcfile = src): <text>:4:13: unexpected '<'\n3: # Make two variables, both with numeric types\n4: number_1 <- <\n               ^\nTraceback:\n"
     ]
    }
   ],
   "source": [
    "#  _________ EXERCISES _________\n",
    "\n",
    "# Make two variables, both with numeric types\n",
    "number_1 <- <FILL_IN>\n",
    "number_2 <- <FILL_IN>\n",
    "\n",
    "# Make two vectors. Their elements should be numer_1 and number_2\n",
    "vector_1 <- <FILL_IN>\n",
    "vector_2 <- <FILL_IN>\n",
    "\n",
    "# Make a vector, with length = 2, and contains FALSE\n",
    "logical_vec <- <FILL_IN>\n",
    "\n",
    "# Take the product of vector_1 and the logical vector\n",
    "<FILL_IN> * logical_vec\n",
    "\n",
    "# Were you surprised by the result?"
   ]
  },
  {
   "cell_type": "markdown",
   "metadata": {},
   "source": [
    "## More on Vectors\n",
    "\n",
    "Vectors are an important component of R. Let's take a moment to learn how to properly use them! \n",
    "\n",
    "### Selection\n",
    "\n",
    "We can use square brackets, <strong><code>[ ]</code></strong>, at the end of a vector variable to access its elements. This is a common paradigm in a lot of programming languages... *except Scala*. Remember that R uses one-based indexing; Python's indexing is zero-based.\n",
    "\n",
    "<code>\n",
    "first_elem <- a_vector[1]\n",
    "other_elem <- a_vector[5]\n",
    "</code>\n",
    "\n",
    "But what if you need multiple elements back? Just use a vector of indices in the <strong><code>[ ]</code></strong>! Remember that if you ask for more than 1 element from a vector, R will return those elements in a vector\n",
    "<code>\n",
    "first_3 <- a_vector[c(1,2,3)]\n",
    "</code>"
   ]
  },
  {
   "cell_type": "code",
   "execution_count": 32,
   "metadata": {
    "collapsed": false
   },
   "outputs": [
    {
     "ename": "ERROR",
     "evalue": "Error in parse(text = x, srcfile = src): <text>:6:10: unexpected '<'\n5: # Grab the first and last elements of the_vector\n6: first <- <\n            ^\n",
     "output_type": "error",
     "traceback": [
      "Error in parse(text = x, srcfile = src): <text>:6:10: unexpected '<'\n5: # Grab the first and last elements of the_vector\n6: first <- <\n            ^\nTraceback:\n"
     ]
    }
   ],
   "source": [
    "#  _________ YOUR TURN _________\n",
    "\n",
    "the_vector <- c(0.01, 0.1, 1, 10, 100, 1000)\n",
    "\n",
    "# Grab the first and last elements of the_vector\n",
    "first <- <FILL_IN>\n",
    "second <- <FILL_IN>\n",
    "\n",
    "# Take their product\n",
    "the_product <- <FILL_IN>\n",
    "\n",
    "# Multiply the_product against the first two elements of the_vector...\n",
    "# ... IN ONE LINE!\n",
    "one_liner <- <FILL_IN> * "
   ]
  },
  {
   "cell_type": "code",
   "execution_count": 30,
   "metadata": {
    "collapsed": false
   },
   "outputs": [
    {
     "data": {
      "text/html": [
       "<ol class=list-inline>\n",
       "\t<li>0.1</li>\n",
       "\t<li>1</li>\n",
       "\t<li>10</li>\n",
       "</ol>\n"
      ],
      "text/latex": [
       "\\begin{enumerate*}\n",
       "\\item 0.1\n",
       "\\item 1\n",
       "\\item 10\n",
       "\\end{enumerate*}\n"
      ],
      "text/markdown": [
       "1. 0.1\n",
       "2. 1\n",
       "3. 10\n",
       "\n",
       "\n"
      ],
      "text/plain": [
       "[1]  0.1  1.0 10.0"
      ]
     },
     "metadata": {},
     "output_type": "display_data"
    }
   ],
   "source": [
    "# solution\n",
    "#  _________ YOUR TURN _________\n",
    "\n",
    "the_vector <- c(0.01, 0.1, 1, 10, 100, 1000)\n",
    "\n",
    "# Grab the first and last elements of the_vector\n",
    "first <- the_vector[1]\n",
    "second <- the_vector[length(the_vector)]\n",
    "\n",
    "# Take their product\n",
    "the_product <- first * second\n",
    "\n",
    "# Multiply the_product against the first two elements of the_vector...\n",
    "# ... IN ONE LINE!\n",
    "one_liner <- the_product * the_vector[c(1,2,3)]\n",
    "one_liner"
   ]
  },
  {
   "cell_type": "markdown",
   "metadata": {},
   "source": [
    "Note that vectors <strong>do not</strong> nest other vectors within them. When we run the code below, the vector <vector>d</vector> just concatenates the contents of <code>b</code> to <code>a</code>. If you need to have a vector of vectors, use a list of vectors instead."
   ]
  },
  {
   "cell_type": "code",
   "execution_count": 9,
   "metadata": {
    "collapsed": false
   },
   "outputs": [
    {
     "name": "stdout",
     "output_type": "stream",
     "text": [
      "[1] \"Length of d = 6\"\n",
      "[1] 1 2 3 4 5 6\n"
     ]
    }
   ],
   "source": [
    "# Make some simple vectors\n",
    "a <- c(1, 2, 3)\n",
    "b <- c(4, 5, 6)\n",
    "\n",
    "# Nest them inside another vector\n",
    "d <- c(a, b)\n",
    "\n",
    "# d is not a vector of vectors, it is a vector of integers\n",
    "print(paste(\"Length of d =\", length(d)))\n",
    "print(d)"
   ]
  },
  {
   "cell_type": "markdown",
   "metadata": {},
   "source": [
    "## Writing good code\n",
    "\n",
    "<strong>A.K.A.</strong> How to not look like a fool at your first job.\n",
    "\n",
    "Don't you hate it when you have to read someone's notes, and the writer had really poor handwritting? The ame thing applies with code. Follow these tips so you don't give your boss a headache at your first job.\n",
    "\n",
    "**In R, we use <-**\n",
    "- Yes it is weird, yes you need to use it, and yes there are reasons\n",
    "    - Using \"=\" and \"<-\" affects the variable's scope\n",
    "    - We'll come back to this when we cover functions\n",
    "\n",
    "**Use Whitespace *Wisely* **\n",
    "- In lists, function parameters, etc.\n",
    "    - <code>c(\"This\",\"is\",\"ugly\")</code> vs. <code>c(\"this\", \"is\", \"beautiful\")</code>\n",
    "    - <code>sum(1,2,3,4)</code> vs. <code>sum(1, 2, 3, 4)</code>\n",
    "    - There is **some** wiggle room on this rule. Don't use whitespace in named function arguments\n",
    "      - <code>excessiveSpacing <- f(a = \"arg\", b = 3, c = c(1, 2, 3))</code>\n",
    "      - <code>betterSpacing <- f(a=\"arg\", b=3, c=c(1, 2, 3))</code>\n",
    "- Put a space between variable assignments\n",
    "    - <code>no<-1.1</code>\n",
    "    - <code>yes <- 6.6</code>\n",
    "- Use a blank line between chunks of code that are accomplishing different steps, like paragraphs in writing\n",
    "    \n",
    "**Comment your Code**\n",
    "- If you made a temporary work-around in a project, leave a comment\n",
    "- If you made a very complex expression, expain it *briefly*\n",
    "- Use comments to section off parts of code\n",
    "    - Use <code>###</code> to seperate parts of your R script (Data Collection, Cleaning, Modeling, Model Validation)\n",
    "\n",
    "**Write code your friends can read**\n",
    "- Keep this in mind, you'll be set.\n",
    "- Use variable names that make sense\n",
    " "
   ]
  },
  {
   "cell_type": "code",
   "execution_count": 3,
   "metadata": {
    "collapsed": false
   },
   "outputs": [
    {
     "name": "stdout",
     "output_type": "stream",
     "text": [
      "[1] 1\n",
      "[1] 2\n",
      "[1] 3\n",
      "[1] 4\n"
     ]
    }
   ],
   "source": [
    "# Clean this ugly code!\n",
    "# It is using a for loop to access and print elements of the vector\n",
    "# ---------------------\n",
    "\n",
    "wow=1\n",
    "such=c(1,2,3,4)\n",
    "aaaaa<-length(such)\n",
    "\n",
    "while(wow<=aaaaa){    print( such[wow]  )\n",
    "    \n",
    "    \n",
    "    wow <- wow + 1    }"
   ]
  },
  {
   "cell_type": "markdown",
   "metadata": {},
   "source": [
    "## Exercises\n",
    "\n",
    "Stay sharp! Work on these and ask a fellow student for help if you get stuck. If you breeze through them, find a student and assist them. You'll understand R better by explaining the process to someone else!"
   ]
  },
  {
   "cell_type": "code",
   "execution_count": 34,
   "metadata": {
    "collapsed": true
   },
   "outputs": [],
   "source": [
    "# Start exercises here\n",
    "\n",
    "\n"
   ]
  },
  {
   "cell_type": "code",
   "execution_count": null,
   "metadata": {
    "collapsed": true
   },
   "outputs": [],
   "source": []
  },
  {
   "cell_type": "code",
   "execution_count": null,
   "metadata": {
    "collapsed": true
   },
   "outputs": [],
   "source": []
  },
  {
   "cell_type": "markdown",
   "metadata": {},
   "source": [
    "### Cleaned Code (answer)"
   ]
  },
  {
   "cell_type": "code",
   "execution_count": 27,
   "metadata": {
    "collapsed": false
   },
   "outputs": [],
   "source": [
    "# Here's the clean code\n",
    "# -----------------------\n",
    "\n",
    "# Declare variables\n",
    "iter <- 1\n",
    "vect1 <- c(1, 2, 3, 4)\n",
    "len <- length(such)\n",
    "\n",
    "# Iterate over vect, print elements\n",
    "while(iter <= len)\n",
    "{\n",
    "    print(vect1[iter])\n",
    "    iter <- iter + 1 \n",
    "}"
   ]
  },
  {
   "cell_type": "markdown",
   "metadata": {},
   "source": [
    "**How I cleaned the dirty code**:\n",
    "- Added comments because I'm not a fool\n",
    "- Renamed the variables\n",
    "    - iter for \"iterator\"\n",
    "    - vect1 for \"vector one\"\n",
    "    - len for \"length\"\n",
    "- Added spaces as appropriate\n",
    "    - Around assignment\n",
    "    - After comments\n",
    "    - Around conditionals (<,>,==, <=, etc.)\n",
    "- Removed unnecessary white space\n",
    "    - Dropped down the leading curly brace\n",
    "        - This is personal preference\n",
    "    - Put the ending curly brace on a new line\n",
    "        - This is <strong>not</strong> personal preference, always do this"
   ]
  },
  {
   "cell_type": "markdown",
   "metadata": {},
   "source": [
    "## Congratulations!\n",
    "\n",
    "You're done with tonight's exercises! Check back to [the syllabus](https://github.com/JasonFreeberg/R_Tutorials/blob/master/README.md) for this week's homework. And remember... *if you're going through hell, you keep going.*"
   ]
  },
  {
   "cell_type": "code",
   "execution_count": null,
   "metadata": {
    "collapsed": true
   },
   "outputs": [],
   "source": []
  }
 ],
 "metadata": {
  "kernelspec": {
   "display_name": "R",
   "language": "R",
   "name": "ir"
  },
  "language_info": {
   "codemirror_mode": "r",
   "file_extension": ".r",
   "mimetype": "text/x-r-source",
   "name": "R",
   "pygments_lexer": "r",
   "version": "3.3.2"
  }
 },
 "nbformat": 4,
 "nbformat_minor": 0
}
