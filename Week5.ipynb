{
 "cells": [
  {
   "cell_type": "markdown",
   "metadata": {
    "collapsed": true
   },
   "source": [
    "## Week 5: Aggregating Data\n",
    "\n",
    "Today you will learn how to aggregate data using R. By *aggregate*, I mean that we will be grouping observations on one variable, and organizing the remaining variables using summary statistics like mean, frequency, maximum, or minimum. This is a very common task, and it's not difficult to do thanks to [Hadley Wickam's]() package, [dplyr](https://github.com/hadley/dplyr). Dplyr provides a \"grammar of data manipulation\" and we will now take a look at its most useful components."
   ]
  },
  {
   "cell_type": "code",
   "execution_count": 2,
   "metadata": {
    "collapsed": false
   },
   "outputs": [
    {
     "name": "stderr",
     "output_type": "stream",
     "text": [
      "\n",
      "Attaching package: ‘dplyr’\n",
      "\n",
      "The following objects are masked from ‘package:plyr’:\n",
      "\n",
      "    arrange, count, desc, failwith, id, mutate, rename, summarise,\n",
      "    summarize\n",
      "\n",
      "The following objects are masked from ‘package:stats’:\n",
      "\n",
      "    filter, lag\n",
      "\n",
      "The following objects are masked from ‘package:base’:\n",
      "\n",
      "    intersect, setdiff, setequal, union\n",
      "\n"
     ]
    },
    {
     "data": {
      "text/html": [
       "<ol class=list-inline>\n",
       "\t<li>336776</li>\n",
       "\t<li>19</li>\n",
       "</ol>\n"
      ],
      "text/latex": [
       "\\begin{enumerate*}\n",
       "\\item 336776\n",
       "\\item 19\n",
       "\\end{enumerate*}\n"
      ],
      "text/markdown": [
       "1. 336776\n",
       "2. 19\n",
       "\n",
       "\n"
      ],
      "text/plain": [
       "[1] 336776     19"
      ]
     },
     "metadata": {},
     "output_type": "display_data"
    },
    {
     "data": {
      "text/html": [
       "<table>\n",
       "<thead><tr><th scope=col>year</th><th scope=col>month</th><th scope=col>day</th><th scope=col>dep_time</th><th scope=col>sched_dep_time</th><th scope=col>dep_delay</th><th scope=col>arr_time</th><th scope=col>sched_arr_time</th><th scope=col>arr_delay</th><th scope=col>carrier</th><th scope=col>flight</th><th scope=col>tailnum</th><th scope=col>origin</th><th scope=col>dest</th><th scope=col>air_time</th><th scope=col>distance</th><th scope=col>hour</th><th scope=col>minute</th><th scope=col>time_hour</th></tr></thead>\n",
       "<tbody>\n",
       "\t<tr><td>2013               </td><td>1                  </td><td>1                  </td><td>517                </td><td>515                </td><td> 2                 </td><td> 830               </td><td> 819               </td><td> 11                </td><td>UA                 </td><td>1545               </td><td>N14228             </td><td>EWR                </td><td>IAH                </td><td>227                </td><td>1400               </td><td>5                  </td><td>15                 </td><td>2013-01-01 05:00:00</td></tr>\n",
       "\t<tr><td>2013               </td><td>1                  </td><td>1                  </td><td>533                </td><td>529                </td><td> 4                 </td><td> 850               </td><td> 830               </td><td> 20                </td><td>UA                 </td><td>1714               </td><td>N24211             </td><td>LGA                </td><td>IAH                </td><td>227                </td><td>1416               </td><td>5                  </td><td>29                 </td><td>2013-01-01 05:00:00</td></tr>\n",
       "\t<tr><td>2013               </td><td>1                  </td><td>1                  </td><td>542                </td><td>540                </td><td> 2                 </td><td> 923               </td><td> 850               </td><td> 33                </td><td>AA                 </td><td>1141               </td><td>N619AA             </td><td>JFK                </td><td>MIA                </td><td>160                </td><td>1089               </td><td>5                  </td><td>40                 </td><td>2013-01-01 05:00:00</td></tr>\n",
       "\t<tr><td>2013               </td><td>1                  </td><td>1                  </td><td>544                </td><td>545                </td><td>-1                 </td><td>1004               </td><td>1022               </td><td>-18                </td><td>B6                 </td><td> 725               </td><td>N804JB             </td><td>JFK                </td><td>BQN                </td><td>183                </td><td>1576               </td><td>5                  </td><td>45                 </td><td>2013-01-01 05:00:00</td></tr>\n",
       "\t<tr><td>2013               </td><td>1                  </td><td>1                  </td><td>554                </td><td>600                </td><td>-6                 </td><td> 812               </td><td> 837               </td><td>-25                </td><td>DL                 </td><td> 461               </td><td>N668DN             </td><td>LGA                </td><td>ATL                </td><td>116                </td><td> 762               </td><td>6                  </td><td> 0                 </td><td>2013-01-01 06:00:00</td></tr>\n",
       "\t<tr><td>2013               </td><td>1                  </td><td>1                  </td><td>554                </td><td>558                </td><td>-4                 </td><td> 740               </td><td> 728               </td><td> 12                </td><td>UA                 </td><td>1696               </td><td>N39463             </td><td>EWR                </td><td>ORD                </td><td>150                </td><td> 719               </td><td>5                  </td><td>58                 </td><td>2013-01-01 05:00:00</td></tr>\n",
       "</tbody>\n",
       "</table>\n"
      ],
      "text/latex": [
       "\\begin{tabular}{r|lllllllllllllllllll}\n",
       " year & month & day & dep\\_time & sched\\_dep\\_time & dep\\_delay & arr\\_time & sched\\_arr\\_time & arr\\_delay & carrier & flight & tailnum & origin & dest & air\\_time & distance & hour & minute & time\\_hour\\\\\n",
       "\\hline\n",
       "\t 2013                & 1                   & 1                   & 517                 & 515                 &  2                  &  830                &  819                &  11                 & UA                  & 1545                & N14228              & EWR                 & IAH                 & 227                 & 1400                & 5                   & 15                  & 2013-01-01 05:00:00\\\\\n",
       "\t 2013                & 1                   & 1                   & 533                 & 529                 &  4                  &  850                &  830                &  20                 & UA                  & 1714                & N24211              & LGA                 & IAH                 & 227                 & 1416                & 5                   & 29                  & 2013-01-01 05:00:00\\\\\n",
       "\t 2013                & 1                   & 1                   & 542                 & 540                 &  2                  &  923                &  850                &  33                 & AA                  & 1141                & N619AA              & JFK                 & MIA                 & 160                 & 1089                & 5                   & 40                  & 2013-01-01 05:00:00\\\\\n",
       "\t 2013                & 1                   & 1                   & 544                 & 545                 & -1                  & 1004                & 1022                & -18                 & B6                  &  725                & N804JB              & JFK                 & BQN                 & 183                 & 1576                & 5                   & 45                  & 2013-01-01 05:00:00\\\\\n",
       "\t 2013                & 1                   & 1                   & 554                 & 600                 & -6                  &  812                &  837                & -25                 & DL                  &  461                & N668DN              & LGA                 & ATL                 & 116                 &  762                & 6                   &  0                  & 2013-01-01 06:00:00\\\\\n",
       "\t 2013                & 1                   & 1                   & 554                 & 558                 & -4                  &  740                &  728                &  12                 & UA                  & 1696                & N39463              & EWR                 & ORD                 & 150                 &  719                & 5                   & 58                  & 2013-01-01 05:00:00\\\\\n",
       "\\end{tabular}\n"
      ],
      "text/plain": [
       "  year month day dep_time sched_dep_time dep_delay arr_time sched_arr_time\n",
       "1 2013 1     1   517      515             2         830      819          \n",
       "2 2013 1     1   533      529             4         850      830          \n",
       "3 2013 1     1   542      540             2         923      850          \n",
       "4 2013 1     1   544      545            -1        1004     1022          \n",
       "5 2013 1     1   554      600            -6         812      837          \n",
       "6 2013 1     1   554      558            -4         740      728          \n",
       "  arr_delay carrier flight tailnum origin dest air_time distance hour minute\n",
       "1  11       UA      1545   N14228  EWR    IAH  227      1400     5    15    \n",
       "2  20       UA      1714   N24211  LGA    IAH  227      1416     5    29    \n",
       "3  33       AA      1141   N619AA  JFK    MIA  160      1089     5    40    \n",
       "4 -18       B6       725   N804JB  JFK    BQN  183      1576     5    45    \n",
       "5 -25       DL       461   N668DN  LGA    ATL  116       762     6     0    \n",
       "6  12       UA      1696   N39463  EWR    ORD  150       719     5    58    \n",
       "  time_hour          \n",
       "1 2013-01-01 05:00:00\n",
       "2 2013-01-01 05:00:00\n",
       "3 2013-01-01 05:00:00\n",
       "4 2013-01-01 05:00:00\n",
       "5 2013-01-01 06:00:00\n",
       "6 2013-01-01 05:00:00"
      ]
     },
     "metadata": {},
     "output_type": "display_data"
    }
   ],
   "source": [
    "set.seed(193)\n",
    "\n",
    "# Always load plyr first\n",
    "library(plyr)\n",
    "library(dplyr)\n",
    "#install.packages(\"nycflights13\")\n",
    "library(nycflights13)\n",
    "\n",
    "# Let's take a peek at the dataset\n",
    "dim(flights)\n",
    "head(flights)"
   ]
  },
  {
   "cell_type": "markdown",
   "metadata": {},
   "source": [
    "## Basic dplyr functions\n",
    "\n",
    "Some of the helpful functions in the package are also the most simple.\n",
    "- <code>filter()</code> filters the rows based on conditions\n",
    "- <code>arrange()</code> reorders rows \n",
    "    - Orders ascending by default, we can use <code>desc()</code> to change that\n",
    "- <code>select()</code> filters columns\n",
    "- <code>distinct()</code> finds distinct values in a variable\n",
    "- <code>mutate()</code> creates new columns\n",
    "    - Use <code>transmute()</code> to keep only the new columns\n",
    "- <code>summarise()</code> collapses rows using a summary statistics\n",
    "    - Uses functions like <code>mean()</code>, <code>max()</code>, and <code>n()</code>\n",
    "\n",
    "You may notice that last lecture we learned how to do some of these things, like filtering rows or making new columns, using native R syntax. When we get to dplyr's piping operator, <code>%>%</code>, you will need to use these dplyr functions."
   ]
  },
  {
   "cell_type": "code",
   "execution_count": 3,
   "metadata": {
    "collapsed": false
   },
   "outputs": [],
   "source": [
    "# Filter()'s basic syntax...\n",
    "# newData <- filter(oldData, condition1, condition2, ..., conditionN)\n",
    "\n",
    "allJanuary <- filter(flights, month ==1)\n",
    "janAndAA <- filter(flights, month == 1, carrier == 'AA')\n",
    "\n",
    "# Arrange()'s basic syntax...\n",
    "# newData <- arrange(oldData, column1, column2, ..., columnN)\n",
    "\n",
    "longFlights <- arrange(flights, distance)\n",
    "doubleLong <- arrange(flights, distance, air_time) # This means we arrange by distance, and break ties by air_time\n",
    "\n",
    "# Mutate's basic syntax...\n",
    "# newData <- arrange(oldData, newColumn = [operation on columns], newColumn2 = [another operation], ...)\n",
    "\n",
    "simpleLogical <- mutate(flights, \n",
    "                       longFlight = distance > mean(distance))\n",
    "justInteraction <- transmute(flights,\n",
    "                     lengthXtime = distance*air_time)\n",
    "\n",
    "# Summarise's basic syntax...\n",
    "# newData <- arrange(oldData, summaryColumn = [operation on columns], summaryCol2 = [operation on cols], ...)\n",
    "\n",
    "simpleSummary <- summarise(flights, \n",
    "                          meanDelay = mean(arr_delay, na.rm = T),\n",
    "                          maxDistance = max(distance),\n",
    "                          count = n())"
   ]
  },
  {
   "cell_type": "code",
   "execution_count": 4,
   "metadata": {
    "collapsed": false
   },
   "outputs": [
    {
     "data": {
      "text/html": [
       "<table>\n",
       "<thead><tr><th scope=col>month</th></tr></thead>\n",
       "<tbody>\n",
       "\t<tr><td>1</td></tr>\n",
       "</tbody>\n",
       "</table>\n"
      ],
      "text/latex": [
       "\\begin{tabular}{r|l}\n",
       " month\\\\\n",
       "\\hline\n",
       "\t 1\\\\\n",
       "\\end{tabular}\n"
      ],
      "text/plain": [
       "  month\n",
       "1 1    "
      ]
     },
     "metadata": {},
     "output_type": "display_data"
    },
    {
     "data": {
      "text/html": [
       "<table>\n",
       "<thead><tr><th scope=col>carrier</th></tr></thead>\n",
       "<tbody>\n",
       "\t<tr><td>AA</td></tr>\n",
       "</tbody>\n",
       "</table>\n"
      ],
      "text/latex": [
       "\\begin{tabular}{r|l}\n",
       " carrier\\\\\n",
       "\\hline\n",
       "\t AA\\\\\n",
       "\\end{tabular}\n"
      ],
      "text/plain": [
       "  carrier\n",
       "1 AA     "
      ]
     },
     "metadata": {},
     "output_type": "display_data"
    }
   ],
   "source": [
    "# Uncomment any dataframes you're interested in checking\n",
    "# head(allJanuary)\n",
    "# head(janAndAA)\n",
    "# head(longFlights)\n",
    "# head(doubleLong)\n",
    "# head(simpleLogical)\n",
    "# head(justInteraction)\n",
    "# head(simpleSummary)\n",
    "\n",
    "# There should only be one distinct month in allJanuary\n",
    "# and only one carrier in janAndAA\n",
    "\n",
    "distinct(allJanuary, month)\n",
    "distinct(janAndAA, carrier)"
   ]
  },
  {
   "cell_type": "markdown",
   "metadata": {},
   "source": [
    "## Grouping\n",
    "\n",
    "The above functions are great on their own, but they really shine when combined with <code>group_by()</code>. The function takes a dataframe as its first argument, followed by a list of columns to group by, and returns a new dataframe. Then, we can apply the previous functions and they will act on the grouping variables.\n",
    "\n",
    "Let's work through an example! Say we're interested in the distribution of delay times among the carriers in the dataset. So we will need to group on <code>carrier</code> and generate some summary statistics from <code>arr_delay</code> and <code>dep_delay</code>."
   ]
  },
  {
   "cell_type": "code",
   "execution_count": 5,
   "metadata": {
    "collapsed": false
   },
   "outputs": [
    {
     "data": {
      "text/html": [
       "<table>\n",
       "<thead><tr><th scope=col>carrier</th><th scope=col>mean_dep</th><th scope=col>mean_arr</th><th scope=col>max_dep</th><th scope=col>max_arr</th><th scope=col>count</th></tr></thead>\n",
       "<tbody>\n",
       "\t<tr><td>9E        </td><td>16.725769 </td><td> 7.3796692</td><td>NA        </td><td>NA        </td><td>18460     </td></tr>\n",
       "\t<tr><td>AA        </td><td> 8.586016 </td><td> 0.3642909</td><td>NA        </td><td>NA        </td><td>32729     </td></tr>\n",
       "\t<tr><td>AS        </td><td> 5.804775 </td><td>-9.9308886</td><td>NA        </td><td>NA        </td><td>  714     </td></tr>\n",
       "\t<tr><td>B6        </td><td>13.022522 </td><td> 9.4579733</td><td>NA        </td><td>NA        </td><td>54635     </td></tr>\n",
       "\t<tr><td>DL        </td><td> 9.264505 </td><td> 1.6443409</td><td>NA        </td><td>NA        </td><td>48110     </td></tr>\n",
       "\t<tr><td>EV        </td><td>19.955390 </td><td>15.7964311</td><td>NA        </td><td>NA        </td><td>54173     </td></tr>\n",
       "</tbody>\n",
       "</table>\n"
      ],
      "text/latex": [
       "\\begin{tabular}{r|llllll}\n",
       " carrier & mean\\_dep & mean\\_arr & max\\_dep & max\\_arr & count\\\\\n",
       "\\hline\n",
       "\t 9E         & 16.725769  &  7.3796692 & NA         & NA         & 18460     \\\\\n",
       "\t AA         &  8.586016  &  0.3642909 & NA         & NA         & 32729     \\\\\n",
       "\t AS         &  5.804775  & -9.9308886 & NA         & NA         &   714     \\\\\n",
       "\t B6         & 13.022522  &  9.4579733 & NA         & NA         & 54635     \\\\\n",
       "\t DL         &  9.264505  &  1.6443409 & NA         & NA         & 48110     \\\\\n",
       "\t EV         & 19.955390  & 15.7964311 & NA         & NA         & 54173     \\\\\n",
       "\\end{tabular}\n"
      ],
      "text/plain": [
       "  carrier mean_dep  mean_arr   max_dep max_arr count\n",
       "1 9E      16.725769  7.3796692 NA      NA      18460\n",
       "2 AA       8.586016  0.3642909 NA      NA      32729\n",
       "3 AS       5.804775 -9.9308886 NA      NA        714\n",
       "4 B6      13.022522  9.4579733 NA      NA      54635\n",
       "5 DL       9.264505  1.6443409 NA      NA      48110\n",
       "6 EV      19.955390 15.7964311 NA      NA      54173"
      ]
     },
     "metadata": {},
     "output_type": "display_data"
    }
   ],
   "source": [
    "# Group on carrier\n",
    "carrierGroup <- group_by(flights, carrier)\n",
    "\n",
    "# Get mean of the arrival and departure delays\n",
    "\n",
    "## -- MAKE THIS A <FILL-IN> EXERCISE --\n",
    "too_many_stats <- summarise(carrierGroup,\n",
    "                         mean_dep = mean(dep_delay, na.rm=T),\n",
    "                         mean_arr = mean(arr_delay, na.rm=T),\n",
    "                         max_dep = max(dep_delay),\n",
    "                         max_arr = max(arr_delay),\n",
    "                         count = n())\n",
    "\n",
    "# Select the relevant columns\n",
    "summary_stats <- select(too_many_stats, carrier, mean_dep, \n",
    "                        mean_arr, max_dep, max_arr, count)\n",
    "\n",
    "# Uncomment the other commands to see the intermediate steps\n",
    "#head(carrierGroup)\n",
    "#head(too_many_stats)\n",
    "head(summary_stats)"
   ]
  },
  {
   "cell_type": "markdown",
   "metadata": {},
   "source": [
    "## The piping operator, %>%\n",
    "\n",
    "*Now let's dive into dplyr's real power.* As you saw from the last exercise, dplyr is very useful when we chain together the basic functions with <code>group_by()</code>. However, the process in the last code chunk was rather cumbersome. There were a lot of unnecessary dataframes, so let's use the piping operator: <code>%>%</code>. This operator will chain our inputs to subsequent functions. Put programatically, it takes <code>f(x, y)</code> and turns it into <code>x %>% f(y)</code>.\n",
    "\n",
    "Let's see the previous code chunk done with piping. Notice that we can actually drop the <code>select()</code> statement."
   ]
  },
  {
   "cell_type": "code",
   "execution_count": 6,
   "metadata": {
    "collapsed": false
   },
   "outputs": [
    {
     "data": {
      "text/html": [
       "<table>\n",
       "<thead><tr><th scope=col>carrier</th><th scope=col>mean_dep</th><th scope=col>mean_arr</th><th scope=col>max_dep</th><th scope=col>max_arr</th><th scope=col>count</th></tr></thead>\n",
       "<tbody>\n",
       "\t<tr><td>9E        </td><td>16.725769 </td><td> 7.3796692</td><td> 747      </td><td> 744      </td><td>18460     </td></tr>\n",
       "\t<tr><td>AA        </td><td> 8.586016 </td><td> 0.3642909</td><td>1014      </td><td>1007      </td><td>32729     </td></tr>\n",
       "\t<tr><td>AS        </td><td> 5.804775 </td><td>-9.9308886</td><td> 225      </td><td> 198      </td><td>  714     </td></tr>\n",
       "\t<tr><td>B6        </td><td>13.022522 </td><td> 9.4579733</td><td> 502      </td><td> 497      </td><td>54635     </td></tr>\n",
       "\t<tr><td>DL        </td><td> 9.264505 </td><td> 1.6443409</td><td> 960      </td><td> 931      </td><td>48110     </td></tr>\n",
       "\t<tr><td>EV        </td><td>19.955390 </td><td>15.7964311</td><td> 548      </td><td> 577      </td><td>54173     </td></tr>\n",
       "</tbody>\n",
       "</table>\n"
      ],
      "text/latex": [
       "\\begin{tabular}{r|llllll}\n",
       " carrier & mean\\_dep & mean\\_arr & max\\_dep & max\\_arr & count\\\\\n",
       "\\hline\n",
       "\t 9E         & 16.725769  &  7.3796692 &  747       &  744       & 18460     \\\\\n",
       "\t AA         &  8.586016  &  0.3642909 & 1014       & 1007       & 32729     \\\\\n",
       "\t AS         &  5.804775  & -9.9308886 &  225       &  198       &   714     \\\\\n",
       "\t B6         & 13.022522  &  9.4579733 &  502       &  497       & 54635     \\\\\n",
       "\t DL         &  9.264505  &  1.6443409 &  960       &  931       & 48110     \\\\\n",
       "\t EV         & 19.955390  & 15.7964311 &  548       &  577       & 54173     \\\\\n",
       "\\end{tabular}\n"
      ],
      "text/plain": [
       "  carrier mean_dep  mean_arr   max_dep max_arr count\n",
       "1 9E      16.725769  7.3796692  747     744    18460\n",
       "2 AA       8.586016  0.3642909 1014    1007    32729\n",
       "3 AS       5.804775 -9.9308886  225     198      714\n",
       "4 B6      13.022522  9.4579733  502     497    54635\n",
       "5 DL       9.264505  1.6443409  960     931    48110\n",
       "6 EV      19.955390 15.7964311  548     577    54173"
      ]
     },
     "metadata": {},
     "output_type": "display_data"
    }
   ],
   "source": [
    "usingPipes <- flights %>%\n",
    "            group_by(carrier) %>%\n",
    "            summarise(mean_dep = mean(dep_delay, na.rm=T),\n",
    "                      mean_arr = mean(arr_delay, na.rm=T),\n",
    "                      max_dep = max(dep_delay, na.rm=T),\n",
    "                      max_arr = max(arr_delay, na.rm=T),\n",
    "                      count = n())\n",
    "head(usingPipes)"
   ]
  },
  {
   "cell_type": "markdown",
   "metadata": {},
   "source": [
    "Lastly, let's investigate trends of delays by the time of day. We can use <code>mutate()</code> to quickly bin the hours of the day."
   ]
  },
  {
   "cell_type": "code",
   "execution_count": 7,
   "metadata": {
    "collapsed": false
   },
   "outputs": [
    {
     "data": {
      "text/html": [
       "<table>\n",
       "<thead><tr><th scope=col>quarterOfDay</th><th scope=col>count</th><th scope=col>dep_longest</th><th scope=col>arr_longest</th><th scope=col>mean_dep</th><th scope=col>mean_arr</th></tr></thead>\n",
       "<tbody>\n",
       "\t<tr><td>0         </td><td>  1954    </td><td> 201      </td><td> 208      </td><td> 0.6877572</td><td>-4.796907 </td></tr>\n",
       "\t<tr><td>1         </td><td>129067    </td><td>1301      </td><td>1272      </td><td> 3.9934566</td><td>-1.777916 </td></tr>\n",
       "\t<tr><td>2         </td><td>131159    </td><td>1126      </td><td>1109      </td><td>15.5022961</td><td>10.427029 </td></tr>\n",
       "\t<tr><td>3         </td><td> 74596    </td><td>1137      </td><td>1127      </td><td>23.1408445</td><td>16.269685 </td></tr>\n",
       "</tbody>\n",
       "</table>\n"
      ],
      "text/latex": [
       "\\begin{tabular}{r|llllll}\n",
       " quarterOfDay & count & dep\\_longest & arr\\_longest & mean\\_dep & mean\\_arr\\\\\n",
       "\\hline\n",
       "\t 0          &   1954     &  201       &  208       &  0.6877572 & -4.796907 \\\\\n",
       "\t 1          & 129067     & 1301       & 1272       &  3.9934566 & -1.777916 \\\\\n",
       "\t 2          & 131159     & 1126       & 1109       & 15.5022961 & 10.427029 \\\\\n",
       "\t 3          &  74596     & 1137       & 1127       & 23.1408445 & 16.269685 \\\\\n",
       "\\end{tabular}\n"
      ],
      "text/plain": [
       "  quarterOfDay count  dep_longest arr_longest mean_dep   mean_arr \n",
       "1 0              1954  201         208         0.6877572 -4.796907\n",
       "2 1            129067 1301        1272         3.9934566 -1.777916\n",
       "3 2            131159 1126        1109        15.5022961 10.427029\n",
       "4 3             74596 1137        1127        23.1408445 16.269685"
      ]
     },
     "metadata": {},
     "output_type": "display_data"
    }
   ],
   "source": [
    "# Nested ifelse() functions act as normal if/else statements\n",
    "# Basic syntax: ifelse(condition, if_True, if_False)\n",
    "flights2 <- mutate(flights, \n",
    "                   quarterOfDay = ifelse(hour >= 0 & hour < 6, 0, \n",
    "                                         ifelse(hour >= 6 & hour < 12, 1, \n",
    "                                                ifelse(hour >= 12 & hour < 18, 2, 3))))\n",
    "\n",
    "delaysByDay <- flights2 %>%\n",
    "                group_by(quarterOfDay) %>%\n",
    "                summarise(count = n(),\n",
    "                          dep_longest = max(dep_delay, na.rm=T),\n",
    "                          arr_longest = max(arr_delay, na.rm=T),\n",
    "                          mean_dep = mean(dep_delay, na.rm=T),\n",
    "                          mean_arr = mean(arr_delay, na.rm=T))\n",
    "head(delaysByDay)"
   ]
  },
  {
   "cell_type": "markdown",
   "metadata": {
    "collapsed": true
   },
   "source": [
    "Looks like flights in the early AM have the shortest delays, remember that when you start planning your own vactions! This could be caused by the lower amount of flights overall (looking at the <code>count</code> variable).\n",
    "\n",
    "## Joining Dataframes\n",
    "\n",
    "Very quickly, I would like to cover how to merge dataframes in R. This is also a common task if you end up using R in your career. Imagine you have a dataframe of your customers' transaction histories and a second dataframe with your customers' account balances. At some point, you'll probably need to merge them. <strong>There are four basic types of joins</strong> and they all require a common column between them, called the ID variable. \n",
    "\n",
    "- <strong>Outter Join</strong>: When joining two dataframes A and B, this type of merge will keep all observations from both dataframes. If there is a record in A that does not have a matching id in B, it will still be kept (the reverse is also true).\n",
    "- <strong>Inner Join</strong>: When joining A and B, this merge will only keep records for which there is a match on the id in <em>both</em> A and B.\n",
    "- <strong>Left Join</strong>: When joining A and B, this merge will keep all records in A (because it's on the <em>left</em>) and only keep records from B for which there is a match on the id variable.\n",
    "- <strong>Right Join</strong>: When joining A and B, this merge will keep all records in B (because it's on the <em>right</em>) and only keep records from A for which there is a match on the id variable.\n",
    "\n",
    "This is a common task in [SQL](https://en.wikipedia.org/wiki/SQL), and some people make a living writing very complex SQL queries! While the basics of SQL are simple, joining and filtering database tables can become a difficult task--with queries ranging from 30 to 50 lines long. You can begin learning the basics of SQL queries right in RStudio by using Gabor Grothendieck's [sqldf package](https://cran.r-project.org/web/packages/sqldf/sqldf.pdf).\n",
    "\n",
    "The two dataframes below have 40 transactions from our 10 customers. Looking at the "
   ]
  },
  {
   "cell_type": "code",
   "execution_count": 8,
   "metadata": {
    "collapsed": false
   },
   "outputs": [
    {
     "data": {
      "text/html": [
       "<table>\n",
       "<thead><tr><th scope=col>customerId</th><th scope=col>transAmount</th><th scope=col>nGoods</th></tr></thead>\n",
       "<tbody>\n",
       "\t<tr><td>6    </td><td>26.43</td><td>6    </td></tr>\n",
       "\t<tr><td>2    </td><td>66.28</td><td>3    </td></tr>\n",
       "\t<tr><td>4    </td><td>59.82</td><td>1    </td></tr>\n",
       "\t<tr><td>2    </td><td>61.70</td><td>9    </td></tr>\n",
       "\t<tr><td>9    </td><td>30.26</td><td>7    </td></tr>\n",
       "\t<tr><td>6    </td><td>59.42</td><td>9    </td></tr>\n",
       "</tbody>\n",
       "</table>\n"
      ],
      "text/latex": [
       "\\begin{tabular}{r|lll}\n",
       " customerId & transAmount & nGoods\\\\\n",
       "\\hline\n",
       "\t 6     & 26.43 & 6    \\\\\n",
       "\t 2     & 66.28 & 3    \\\\\n",
       "\t 4     & 59.82 & 1    \\\\\n",
       "\t 2     & 61.70 & 9    \\\\\n",
       "\t 9     & 30.26 & 7    \\\\\n",
       "\t 6     & 59.42 & 9    \\\\\n",
       "\\end{tabular}\n"
      ],
      "text/plain": [
       "  customerId transAmount nGoods\n",
       "1 6          26.43       6     \n",
       "2 2          66.28       3     \n",
       "3 4          59.82       1     \n",
       "4 2          61.70       9     \n",
       "5 9          30.26       7     \n",
       "6 6          59.42       9     "
      ]
     },
     "metadata": {},
     "output_type": "display_data"
    },
    {
     "data": {
      "text/html": [
       "<table>\n",
       "<thead><tr><th scope=col>customerId</th><th scope=col>customerSince</th><th scope=col>age</th><th scope=col>sex</th></tr></thead>\n",
       "<tbody>\n",
       "\t<tr><td>1   </td><td>2007</td><td>50  </td><td>1   </td></tr>\n",
       "\t<tr><td>2   </td><td>1999</td><td>54  </td><td>0   </td></tr>\n",
       "\t<tr><td>3   </td><td>2008</td><td>65  </td><td>0   </td></tr>\n",
       "\t<tr><td>4   </td><td>1992</td><td>59  </td><td>1   </td></tr>\n",
       "\t<tr><td>5   </td><td>2014</td><td>46  </td><td>1   </td></tr>\n",
       "\t<tr><td>6   </td><td>1991</td><td>37  </td><td>0   </td></tr>\n",
       "</tbody>\n",
       "</table>\n"
      ],
      "text/latex": [
       "\\begin{tabular}{r|llll}\n",
       " customerId & customerSince & age & sex\\\\\n",
       "\\hline\n",
       "\t 1    & 2007 & 50   & 1   \\\\\n",
       "\t 2    & 1999 & 54   & 0   \\\\\n",
       "\t 3    & 2008 & 65   & 0   \\\\\n",
       "\t 4    & 1992 & 59   & 1   \\\\\n",
       "\t 5    & 2014 & 46   & 1   \\\\\n",
       "\t 6    & 1991 & 37   & 0   \\\\\n",
       "\\end{tabular}\n"
      ],
      "text/plain": [
       "  customerId customerSince age sex\n",
       "1 1          2007          50  1  \n",
       "2 2          1999          54  0  \n",
       "3 3          2008          65  0  \n",
       "4 4          1992          59  1  \n",
       "5 5          2014          46  1  \n",
       "6 6          1991          37  0  "
      ]
     },
     "metadata": {},
     "output_type": "display_data"
    }
   ],
   "source": [
    "# Transaction history - 40 rows\n",
    "transactions <- data.frame(customerId=sample(1:10, 40, replace=T),\n",
    "                           transAmount=round(runif(n=40, min=10, max=75),2),\n",
    "                           nGoods=sample(1:10, size=40, replace=T)\n",
    "                          )\n",
    "\n",
    "# Customer data - 10 rows\n",
    "customers <- data.frame(customerId=seq(1,10),\n",
    "                        customerSince=sample(1990:2016, size=10, replace=T),\n",
    "                        age=round(runif(n=10, min=30, max=65),0),\n",
    "                        sex=sample(c(0,1), size=10, replace=T)\n",
    "                       )\n",
    "\n",
    "head(transactions)\n",
    "head(customers)"
   ]
  },
  {
   "cell_type": "code",
   "execution_count": 16,
   "metadata": {
    "collapsed": false
   },
   "outputs": [
    {
     "data": {
      "text/html": [
       "<table>\n",
       "<thead><tr><th scope=col>customerId</th><th scope=col>transAmount</th><th scope=col>nGoods</th><th scope=col>customerSince</th><th scope=col>age</th><th scope=col>sex</th></tr></thead>\n",
       "<tbody>\n",
       "\t<tr><td>6    </td><td>26.43</td><td>6    </td><td>1991 </td><td>37   </td><td>0    </td></tr>\n",
       "\t<tr><td>2    </td><td>66.28</td><td>3    </td><td>1999 </td><td>54   </td><td>0    </td></tr>\n",
       "\t<tr><td>4    </td><td>59.82</td><td>1    </td><td>1992 </td><td>59   </td><td>1    </td></tr>\n",
       "\t<tr><td>2    </td><td>61.70</td><td>9    </td><td>1999 </td><td>54   </td><td>0    </td></tr>\n",
       "\t<tr><td>9    </td><td>30.26</td><td>7    </td><td>2004 </td><td>63   </td><td>0    </td></tr>\n",
       "\t<tr><td>6    </td><td>59.42</td><td>9    </td><td>1991 </td><td>37   </td><td>0    </td></tr>\n",
       "</tbody>\n",
       "</table>\n"
      ],
      "text/latex": [
       "\\begin{tabular}{r|llllll}\n",
       " customerId & transAmount & nGoods & customerSince & age & sex\\\\\n",
       "\\hline\n",
       "\t 6     & 26.43 & 6     & 1991  & 37    & 0    \\\\\n",
       "\t 2     & 66.28 & 3     & 1999  & 54    & 0    \\\\\n",
       "\t 4     & 59.82 & 1     & 1992  & 59    & 1    \\\\\n",
       "\t 2     & 61.70 & 9     & 1999  & 54    & 0    \\\\\n",
       "\t 9     & 30.26 & 7     & 2004  & 63    & 0    \\\\\n",
       "\t 6     & 59.42 & 9     & 1991  & 37    & 0    \\\\\n",
       "\\end{tabular}\n"
      ],
      "text/plain": [
       "  customerId transAmount nGoods customerSince age sex\n",
       "1 6          26.43       6      1991          37  0  \n",
       "2 2          66.28       3      1999          54  0  \n",
       "3 4          59.82       1      1992          59  1  \n",
       "4 2          61.70       9      1999          54  0  \n",
       "5 9          30.26       7      2004          63  0  \n",
       "6 6          59.42       9      1991          37  0  "
      ]
     },
     "metadata": {},
     "output_type": "display_data"
    },
    {
     "data": {
      "text/html": [
       "<table>\n",
       "<thead><tr><th scope=col>customerId</th><th scope=col>transAmount</th><th scope=col>nGoods</th><th scope=col>customerSince</th><th scope=col>age</th><th scope=col>sex</th></tr></thead>\n",
       "<tbody>\n",
       "\t<tr><td>1    </td><td>29.04</td><td> 2   </td><td>2007 </td><td>50   </td><td>1    </td></tr>\n",
       "\t<tr><td>1    </td><td>63.77</td><td> 3   </td><td>2007 </td><td>50   </td><td>1    </td></tr>\n",
       "\t<tr><td>1    </td><td>18.60</td><td>10   </td><td>2007 </td><td>50   </td><td>1    </td></tr>\n",
       "\t<tr><td>2    </td><td>66.28</td><td> 3   </td><td>1999 </td><td>54   </td><td>0    </td></tr>\n",
       "\t<tr><td>2    </td><td>61.70</td><td> 9   </td><td>1999 </td><td>54   </td><td>0    </td></tr>\n",
       "\t<tr><td>2    </td><td>16.73</td><td> 5   </td><td>1999 </td><td>54   </td><td>0    </td></tr>\n",
       "</tbody>\n",
       "</table>\n"
      ],
      "text/latex": [
       "\\begin{tabular}{r|llllll}\n",
       " customerId & transAmount & nGoods & customerSince & age & sex\\\\\n",
       "\\hline\n",
       "\t 1     & 29.04 &  2    & 2007  & 50    & 1    \\\\\n",
       "\t 1     & 63.77 &  3    & 2007  & 50    & 1    \\\\\n",
       "\t 1     & 18.60 & 10    & 2007  & 50    & 1    \\\\\n",
       "\t 2     & 66.28 &  3    & 1999  & 54    & 0    \\\\\n",
       "\t 2     & 61.70 &  9    & 1999  & 54    & 0    \\\\\n",
       "\t 2     & 16.73 &  5    & 1999  & 54    & 0    \\\\\n",
       "\\end{tabular}\n"
      ],
      "text/plain": [
       "  customerId transAmount nGoods customerSince age sex\n",
       "1 1          29.04        2     2007          50  1  \n",
       "2 1          63.77        3     2007          50  1  \n",
       "3 1          18.60       10     2007          50  1  \n",
       "4 2          66.28        3     1999          54  0  \n",
       "5 2          61.70        9     1999          54  0  \n",
       "6 2          16.73        5     1999          54  0  "
      ]
     },
     "metadata": {},
     "output_type": "display_data"
    }
   ],
   "source": [
    "# Left join transactions and customers\n",
    "leftJoin <- join(x=transactions, y=customers, \n",
    "               by=\"customerId\", type=\"left\")\n",
    "\n",
    "# Right join transactions and customers\n",
    "rightJoin <- join(x=transactions, y=customers, \n",
    "               by=\"customerId\", type=\"right\")\n",
    "\n",
    "head(leftJoin)\n",
    "head(rightJoin)"
   ]
  },
  {
   "cell_type": "markdown",
   "metadata": {},
   "source": [
    "## Exercises\n",
    "\n",
    "As always, these exercises will start easy and slowly get more difficult."
   ]
  }
 ],
 "metadata": {
  "kernelspec": {
   "display_name": "R",
   "language": "R",
   "name": "ir"
  },
  "language_info": {
   "codemirror_mode": "r",
   "file_extension": ".r",
   "mimetype": "text/x-r-source",
   "name": "R",
   "pygments_lexer": "r",
   "version": "3.3.2"
  }
 },
 "nbformat": 4,
 "nbformat_minor": 0
}
