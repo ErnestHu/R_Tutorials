{
 "cells": [
  {
   "cell_type": "markdown",
   "metadata": {
    "collapsed": true
   },
   "source": [
    "## Week 5: Aggregating Data\n",
    "\n",
    "Today you will learn how to aggregate data using R. By *aggregate*, I mean that we will be grouping observations on one variable, and organizing the remaining variables using summary statistics like mean, frequency, maximum, or minimum. This is a very common task, and it's not difficult to do thanks to [Hadley Wickam's]() package, [dplyr](https://github.com/hadley/dplyr). Dplyr provides a \"grammar of data manipulation\" and we will now take a look at its most useful components."
   ]
  },
  {
   "cell_type": "code",
   "execution_count": 1,
   "metadata": {
    "collapsed": false
   },
   "outputs": [
    {
     "name": "stderr",
     "output_type": "stream",
     "text": [
      "\n",
      "Attaching package: ‘dplyr’\n",
      "\n",
      "The following objects are masked from ‘package:plyr’:\n",
      "\n",
      "    arrange, count, desc, failwith, id, mutate, rename, summarise,\n",
      "    summarize\n",
      "\n",
      "The following objects are masked from ‘package:stats’:\n",
      "\n",
      "    filter, lag\n",
      "\n",
      "The following objects are masked from ‘package:base’:\n",
      "\n",
      "    intersect, setdiff, setequal, union\n",
      "\n"
     ]
    },
    {
     "data": {
      "text/html": [
       "<ol class=list-inline>\n",
       "\t<li>336776</li>\n",
       "\t<li>19</li>\n",
       "</ol>\n"
      ],
      "text/latex": [
       "\\begin{enumerate*}\n",
       "\\item 336776\n",
       "\\item 19\n",
       "\\end{enumerate*}\n"
      ],
      "text/markdown": [
       "1. 336776\n",
       "2. 19\n",
       "\n",
       "\n"
      ],
      "text/plain": [
       "[1] 336776     19"
      ]
     },
     "metadata": {},
     "output_type": "display_data"
    },
    {
     "data": {
      "text/html": [
       "<table>\n",
       "<thead><tr><th scope=col>year</th><th scope=col>month</th><th scope=col>day</th><th scope=col>dep_time</th><th scope=col>sched_dep_time</th><th scope=col>dep_delay</th><th scope=col>arr_time</th><th scope=col>sched_arr_time</th><th scope=col>arr_delay</th><th scope=col>carrier</th><th scope=col>flight</th><th scope=col>tailnum</th><th scope=col>origin</th><th scope=col>dest</th><th scope=col>air_time</th><th scope=col>distance</th><th scope=col>hour</th><th scope=col>minute</th><th scope=col>time_hour</th></tr></thead>\n",
       "<tbody>\n",
       "\t<tr><td>2013               </td><td>1                  </td><td>1                  </td><td>517                </td><td>515                </td><td> 2                 </td><td> 830               </td><td> 819               </td><td> 11                </td><td>UA                 </td><td>1545               </td><td>N14228             </td><td>EWR                </td><td>IAH                </td><td>227                </td><td>1400               </td><td>5                  </td><td>15                 </td><td>2013-01-01 05:00:00</td></tr>\n",
       "\t<tr><td>2013               </td><td>1                  </td><td>1                  </td><td>533                </td><td>529                </td><td> 4                 </td><td> 850               </td><td> 830               </td><td> 20                </td><td>UA                 </td><td>1714               </td><td>N24211             </td><td>LGA                </td><td>IAH                </td><td>227                </td><td>1416               </td><td>5                  </td><td>29                 </td><td>2013-01-01 05:00:00</td></tr>\n",
       "\t<tr><td>2013               </td><td>1                  </td><td>1                  </td><td>542                </td><td>540                </td><td> 2                 </td><td> 923               </td><td> 850               </td><td> 33                </td><td>AA                 </td><td>1141               </td><td>N619AA             </td><td>JFK                </td><td>MIA                </td><td>160                </td><td>1089               </td><td>5                  </td><td>40                 </td><td>2013-01-01 05:00:00</td></tr>\n",
       "\t<tr><td>2013               </td><td>1                  </td><td>1                  </td><td>544                </td><td>545                </td><td>-1                 </td><td>1004               </td><td>1022               </td><td>-18                </td><td>B6                 </td><td> 725               </td><td>N804JB             </td><td>JFK                </td><td>BQN                </td><td>183                </td><td>1576               </td><td>5                  </td><td>45                 </td><td>2013-01-01 05:00:00</td></tr>\n",
       "\t<tr><td>2013               </td><td>1                  </td><td>1                  </td><td>554                </td><td>600                </td><td>-6                 </td><td> 812               </td><td> 837               </td><td>-25                </td><td>DL                 </td><td> 461               </td><td>N668DN             </td><td>LGA                </td><td>ATL                </td><td>116                </td><td> 762               </td><td>6                  </td><td> 0                 </td><td>2013-01-01 06:00:00</td></tr>\n",
       "\t<tr><td>2013               </td><td>1                  </td><td>1                  </td><td>554                </td><td>558                </td><td>-4                 </td><td> 740               </td><td> 728               </td><td> 12                </td><td>UA                 </td><td>1696               </td><td>N39463             </td><td>EWR                </td><td>ORD                </td><td>150                </td><td> 719               </td><td>5                  </td><td>58                 </td><td>2013-01-01 05:00:00</td></tr>\n",
       "</tbody>\n",
       "</table>\n"
      ],
      "text/latex": [
       "\\begin{tabular}{r|lllllllllllllllllll}\n",
       " year & month & day & dep\\_time & sched\\_dep\\_time & dep\\_delay & arr\\_time & sched\\_arr\\_time & arr\\_delay & carrier & flight & tailnum & origin & dest & air\\_time & distance & hour & minute & time\\_hour\\\\\n",
       "\\hline\n",
       "\t 2013                & 1                   & 1                   & 517                 & 515                 &  2                  &  830                &  819                &  11                 & UA                  & 1545                & N14228              & EWR                 & IAH                 & 227                 & 1400                & 5                   & 15                  & 2013-01-01 05:00:00\\\\\n",
       "\t 2013                & 1                   & 1                   & 533                 & 529                 &  4                  &  850                &  830                &  20                 & UA                  & 1714                & N24211              & LGA                 & IAH                 & 227                 & 1416                & 5                   & 29                  & 2013-01-01 05:00:00\\\\\n",
       "\t 2013                & 1                   & 1                   & 542                 & 540                 &  2                  &  923                &  850                &  33                 & AA                  & 1141                & N619AA              & JFK                 & MIA                 & 160                 & 1089                & 5                   & 40                  & 2013-01-01 05:00:00\\\\\n",
       "\t 2013                & 1                   & 1                   & 544                 & 545                 & -1                  & 1004                & 1022                & -18                 & B6                  &  725                & N804JB              & JFK                 & BQN                 & 183                 & 1576                & 5                   & 45                  & 2013-01-01 05:00:00\\\\\n",
       "\t 2013                & 1                   & 1                   & 554                 & 600                 & -6                  &  812                &  837                & -25                 & DL                  &  461                & N668DN              & LGA                 & ATL                 & 116                 &  762                & 6                   &  0                  & 2013-01-01 06:00:00\\\\\n",
       "\t 2013                & 1                   & 1                   & 554                 & 558                 & -4                  &  740                &  728                &  12                 & UA                  & 1696                & N39463              & EWR                 & ORD                 & 150                 &  719                & 5                   & 58                  & 2013-01-01 05:00:00\\\\\n",
       "\\end{tabular}\n"
      ],
      "text/markdown": [
       "\n",
       "year | month | day | dep_time | sched_dep_time | dep_delay | arr_time | sched_arr_time | arr_delay | carrier | flight | tailnum | origin | dest | air_time | distance | hour | minute | time_hour | \n",
       "|---|---|---|---|---|---|\n",
       "| 2013                | 1                   | 1                   | 517                 | 515                 |  2                  |  830                |  819                |  11                 | UA                  | 1545                | N14228              | EWR                 | IAH                 | 227                 | 1400                | 5                   | 15                  | 2013-01-01 05:00:00 | \n",
       "| 2013                | 1                   | 1                   | 533                 | 529                 |  4                  |  850                |  830                |  20                 | UA                  | 1714                | N24211              | LGA                 | IAH                 | 227                 | 1416                | 5                   | 29                  | 2013-01-01 05:00:00 | \n",
       "| 2013                | 1                   | 1                   | 542                 | 540                 |  2                  |  923                |  850                |  33                 | AA                  | 1141                | N619AA              | JFK                 | MIA                 | 160                 | 1089                | 5                   | 40                  | 2013-01-01 05:00:00 | \n",
       "| 2013                | 1                   | 1                   | 544                 | 545                 | -1                  | 1004                | 1022                | -18                 | B6                  |  725                | N804JB              | JFK                 | BQN                 | 183                 | 1576                | 5                   | 45                  | 2013-01-01 05:00:00 | \n",
       "| 2013                | 1                   | 1                   | 554                 | 600                 | -6                  |  812                |  837                | -25                 | DL                  |  461                | N668DN              | LGA                 | ATL                 | 116                 |  762                | 6                   |  0                  | 2013-01-01 06:00:00 | \n",
       "| 2013                | 1                   | 1                   | 554                 | 558                 | -4                  |  740                |  728                |  12                 | UA                  | 1696                | N39463              | EWR                 | ORD                 | 150                 |  719                | 5                   | 58                  | 2013-01-01 05:00:00 | \n",
       "\n",
       "\n"
      ],
      "text/plain": [
       "  year month day dep_time sched_dep_time dep_delay arr_time sched_arr_time\n",
       "1 2013 1     1   517      515             2         830      819          \n",
       "2 2013 1     1   533      529             4         850      830          \n",
       "3 2013 1     1   542      540             2         923      850          \n",
       "4 2013 1     1   544      545            -1        1004     1022          \n",
       "5 2013 1     1   554      600            -6         812      837          \n",
       "6 2013 1     1   554      558            -4         740      728          \n",
       "  arr_delay carrier flight tailnum origin dest air_time distance hour minute\n",
       "1  11       UA      1545   N14228  EWR    IAH  227      1400     5    15    \n",
       "2  20       UA      1714   N24211  LGA    IAH  227      1416     5    29    \n",
       "3  33       AA      1141   N619AA  JFK    MIA  160      1089     5    40    \n",
       "4 -18       B6       725   N804JB  JFK    BQN  183      1576     5    45    \n",
       "5 -25       DL       461   N668DN  LGA    ATL  116       762     6     0    \n",
       "6  12       UA      1696   N39463  EWR    ORD  150       719     5    58    \n",
       "  time_hour          \n",
       "1 2013-01-01 05:00:00\n",
       "2 2013-01-01 05:00:00\n",
       "3 2013-01-01 05:00:00\n",
       "4 2013-01-01 05:00:00\n",
       "5 2013-01-01 06:00:00\n",
       "6 2013-01-01 05:00:00"
      ]
     },
     "metadata": {},
     "output_type": "display_data"
    }
   ],
   "source": [
    "set.seed(193)\n",
    "\n",
    "# Always load plyr first\n",
    "library(plyr)\n",
    "library(dplyr)\n",
    "#install.packages(\"nycflights13\")\n",
    "library(nycflights13)\n",
    "\n",
    "# Let's take a peek at the dataset\n",
    "dim(flights)\n",
    "head(flights)"
   ]
  },
  {
   "cell_type": "markdown",
   "metadata": {},
   "source": [
    "## Basic dplyr functions\n",
    "\n",
    "Some of the helpful functions in the package are also the most simple.\n",
    "- <code>filter()</code> filters the rows based on conditions\n",
    "- <code>arrange()</code> reorders rows \n",
    "    - Orders ascending by default, we can use <code>desc()</code> to change that\n",
    "- <code>select()</code> filters columns\n",
    "- <code>distinct()</code> finds distinct values in a variable\n",
    "- <code>mutate()</code> creates new columns\n",
    "    - Use <code>transmute()</code> to keep only the new columns\n",
    "- <code>summarise()</code> collapses rows using a summary statistics\n",
    "    - Uses functions like <code>mean()</code>, <code>max()</code>, and <code>n()</code>\n",
    "\n",
    "You may notice that last lecture we learned how to do some of these things, like filtering rows or making new columns, using native R syntax. When we get to dplyr's piping operator, <code>%>%</code>, you will need to use these dplyr functions."
   ]
  },
  {
   "cell_type": "code",
   "execution_count": 2,
   "metadata": {
    "collapsed": false
   },
   "outputs": [],
   "source": [
    "# Filter()'s basic syntax...\n",
    "# newData <- filter(oldData, condition1, condition2, ..., conditionN)\n",
    "\n",
    "allJanuary <- filter(flights, month ==1)\n",
    "janAndAA <- filter(flights, month == 1, carrier == 'AA')\n",
    "\n",
    "# Arrange()'s basic syntax...\n",
    "# newData <- arrange(oldData, column1, column2, ..., columnN)\n",
    "\n",
    "longFlights <- arrange(flights, distance)\n",
    "doubleLong <- arrange(flights, distance, air_time) # This means we arrange by distance, and break ties by air_time\n",
    "\n",
    "# Mutate's basic syntax...\n",
    "# newData <- arrange(oldData, newColumn = [operation on columns], newColumn2 = [another operation], ...)\n",
    "\n",
    "simpleLogical <- mutate(flights, \n",
    "                       longFlight = distance > mean(distance))\n",
    "justInteraction <- transmute(flights,\n",
    "                     lengthXtime = distance*air_time)\n",
    "\n",
    "# Summarise's basic syntax...\n",
    "# newData <- arrange(oldData, summaryColumn = [operation on columns], summaryCol2 = [operation on cols], ...)\n",
    "\n",
    "simpleSummary <- summarise(flights, \n",
    "                          meanDelay = mean(arr_delay, na.rm = T),\n",
    "                          maxDistance = max(distance),\n",
    "                          count = n())"
   ]
  },
  {
   "cell_type": "code",
   "execution_count": 3,
   "metadata": {
    "collapsed": false
   },
   "outputs": [
    {
     "data": {
      "text/html": [
       "<table>\n",
       "<thead><tr><th scope=col>month</th></tr></thead>\n",
       "<tbody>\n",
       "\t<tr><td>1</td></tr>\n",
       "</tbody>\n",
       "</table>\n"
      ],
      "text/latex": [
       "\\begin{tabular}{r|l}\n",
       " month\\\\\n",
       "\\hline\n",
       "\t 1\\\\\n",
       "\\end{tabular}\n"
      ],
      "text/markdown": [
       "\n",
       "month | \n",
       "|---|\n",
       "| 1 | \n",
       "\n",
       "\n"
      ],
      "text/plain": [
       "  month\n",
       "1 1    "
      ]
     },
     "metadata": {},
     "output_type": "display_data"
    },
    {
     "data": {
      "text/html": [
       "<table>\n",
       "<thead><tr><th scope=col>carrier</th></tr></thead>\n",
       "<tbody>\n",
       "\t<tr><td>AA</td></tr>\n",
       "</tbody>\n",
       "</table>\n"
      ],
      "text/latex": [
       "\\begin{tabular}{r|l}\n",
       " carrier\\\\\n",
       "\\hline\n",
       "\t AA\\\\\n",
       "\\end{tabular}\n"
      ],
      "text/markdown": [
       "\n",
       "carrier | \n",
       "|---|\n",
       "| AA | \n",
       "\n",
       "\n"
      ],
      "text/plain": [
       "  carrier\n",
       "1 AA     "
      ]
     },
     "metadata": {},
     "output_type": "display_data"
    }
   ],
   "source": [
    "# Uncomment any dataframes you're interested in checking\n",
    "# head(allJanuary)\n",
    "# head(janAndAA)\n",
    "# head(longFlights)\n",
    "# head(doubleLong)\n",
    "# head(simpleLogical)\n",
    "# head(justInteraction)\n",
    "# head(simpleSummary)\n",
    "\n",
    "# There should only be one distinct month in allJanuary\n",
    "# and only one carrier in janAndAA\n",
    "\n",
    "distinct(allJanuary, month)\n",
    "distinct(janAndAA, carrier)"
   ]
  },
  {
   "cell_type": "markdown",
   "metadata": {},
   "source": [
    "## Grouping\n",
    "\n",
    "The above functions are great on their own, but they really shine when combined with <code>group_by()</code>. The function takes a dataframe as its first argument, followed by a list of columns to group by, and returns a new dataframe. Then, we can apply the previous functions and they will act on the grouping variables.\n",
    "\n",
    "Let's work through an example! Say we're interested in the distribution of delay times among the carriers in the dataset. So we will need to group on <code>carrier</code> and generate some summary statistics from <code>arr_delay</code> and <code>dep_delay</code>."
   ]
  },
  {
   "cell_type": "code",
   "execution_count": 4,
   "metadata": {
    "collapsed": false
   },
   "outputs": [
    {
     "data": {
      "text/html": [
       "<table>\n",
       "<thead><tr><th scope=col>carrier</th><th scope=col>mean_dep</th><th scope=col>mean_arr</th><th scope=col>max_dep</th><th scope=col>max_arr</th><th scope=col>count</th></tr></thead>\n",
       "<tbody>\n",
       "\t<tr><td>9E        </td><td>16.725769 </td><td> 7.3796692</td><td>NA        </td><td>NA        </td><td>18460     </td></tr>\n",
       "\t<tr><td>AA        </td><td> 8.586016 </td><td> 0.3642909</td><td>NA        </td><td>NA        </td><td>32729     </td></tr>\n",
       "\t<tr><td>AS        </td><td> 5.804775 </td><td>-9.9308886</td><td>NA        </td><td>NA        </td><td>  714     </td></tr>\n",
       "\t<tr><td>B6        </td><td>13.022522 </td><td> 9.4579733</td><td>NA        </td><td>NA        </td><td>54635     </td></tr>\n",
       "\t<tr><td>DL        </td><td> 9.264505 </td><td> 1.6443409</td><td>NA        </td><td>NA        </td><td>48110     </td></tr>\n",
       "\t<tr><td>EV        </td><td>19.955390 </td><td>15.7964311</td><td>NA        </td><td>NA        </td><td>54173     </td></tr>\n",
       "</tbody>\n",
       "</table>\n"
      ],
      "text/latex": [
       "\\begin{tabular}{r|llllll}\n",
       " carrier & mean\\_dep & mean\\_arr & max\\_dep & max\\_arr & count\\\\\n",
       "\\hline\n",
       "\t 9E         & 16.725769  &  7.3796692 & NA         & NA         & 18460     \\\\\n",
       "\t AA         &  8.586016  &  0.3642909 & NA         & NA         & 32729     \\\\\n",
       "\t AS         &  5.804775  & -9.9308886 & NA         & NA         &   714     \\\\\n",
       "\t B6         & 13.022522  &  9.4579733 & NA         & NA         & 54635     \\\\\n",
       "\t DL         &  9.264505  &  1.6443409 & NA         & NA         & 48110     \\\\\n",
       "\t EV         & 19.955390  & 15.7964311 & NA         & NA         & 54173     \\\\\n",
       "\\end{tabular}\n"
      ],
      "text/markdown": [
       "\n",
       "carrier | mean_dep | mean_arr | max_dep | max_arr | count | \n",
       "|---|---|---|---|---|---|\n",
       "| 9E         | 16.725769  |  7.3796692 | NA         | NA         | 18460      | \n",
       "| AA         |  8.586016  |  0.3642909 | NA         | NA         | 32729      | \n",
       "| AS         |  5.804775  | -9.9308886 | NA         | NA         |   714      | \n",
       "| B6         | 13.022522  |  9.4579733 | NA         | NA         | 54635      | \n",
       "| DL         |  9.264505  |  1.6443409 | NA         | NA         | 48110      | \n",
       "| EV         | 19.955390  | 15.7964311 | NA         | NA         | 54173      | \n",
       "\n",
       "\n"
      ],
      "text/plain": [
       "  carrier mean_dep  mean_arr   max_dep max_arr count\n",
       "1 9E      16.725769  7.3796692 NA      NA      18460\n",
       "2 AA       8.586016  0.3642909 NA      NA      32729\n",
       "3 AS       5.804775 -9.9308886 NA      NA        714\n",
       "4 B6      13.022522  9.4579733 NA      NA      54635\n",
       "5 DL       9.264505  1.6443409 NA      NA      48110\n",
       "6 EV      19.955390 15.7964311 NA      NA      54173"
      ]
     },
     "metadata": {},
     "output_type": "display_data"
    }
   ],
   "source": [
    "# Group on carrier\n",
    "carrierGroup <- group_by(flights, carrier)\n",
    "\n",
    "# Get mean of the arrival and departure delays\n",
    "\n",
    "## -- MAKE THIS A <FILL-IN> EXERCISE --\n",
    "too_many_stats <- summarise(carrierGroup,\n",
    "                         mean_dep = mean(dep_delay, na.rm=T),\n",
    "                         mean_arr = mean(arr_delay, na.rm=T),\n",
    "                         max_dep = max(dep_delay),\n",
    "                         max_arr = max(arr_delay),\n",
    "                         count = n())\n",
    "\n",
    "# Select the relevant columns\n",
    "summary_stats <- select(too_many_stats, carrier, mean_dep, \n",
    "                        mean_arr, max_dep, max_arr, count)\n",
    "\n",
    "# Uncomment the other commands to see the intermediate steps\n",
    "#head(carrierGroup)\n",
    "#head(too_many_stats)\n",
    "head(summary_stats)"
   ]
  },
  {
   "cell_type": "markdown",
   "metadata": {},
   "source": [
    "## The piping operator, %>%\n",
    "\n",
    "*Now let's dive into dplyr's real power.* As you saw from the last exercise, dplyr is very useful when we chain together the basic functions with <code>group_by()</code>. However, the process in the last code chunk was rather cumbersome. There were a lot of unnecessary dataframes, so let's use the piping operator: <code>%>%</code>. This operator will chain our inputs to subsequent functions. Put programatically, it takes <code>f(x, y)</code> and turns it into <code>x %>% f(y)</code>.\n",
    "\n",
    "Let's see the previous code chunk done with piping. Notice that we can actually drop the <code>select()</code> statement."
   ]
  },
  {
   "cell_type": "code",
   "execution_count": 5,
   "metadata": {
    "collapsed": false
   },
   "outputs": [
    {
     "data": {
      "text/html": [
       "<table>\n",
       "<thead><tr><th scope=col>carrier</th><th scope=col>mean_dep</th><th scope=col>mean_arr</th><th scope=col>max_dep</th><th scope=col>max_arr</th><th scope=col>count</th></tr></thead>\n",
       "<tbody>\n",
       "\t<tr><td>9E        </td><td>16.725769 </td><td> 7.3796692</td><td> 747      </td><td> 744      </td><td>18460     </td></tr>\n",
       "\t<tr><td>AA        </td><td> 8.586016 </td><td> 0.3642909</td><td>1014      </td><td>1007      </td><td>32729     </td></tr>\n",
       "\t<tr><td>AS        </td><td> 5.804775 </td><td>-9.9308886</td><td> 225      </td><td> 198      </td><td>  714     </td></tr>\n",
       "\t<tr><td>B6        </td><td>13.022522 </td><td> 9.4579733</td><td> 502      </td><td> 497      </td><td>54635     </td></tr>\n",
       "\t<tr><td>DL        </td><td> 9.264505 </td><td> 1.6443409</td><td> 960      </td><td> 931      </td><td>48110     </td></tr>\n",
       "\t<tr><td>EV        </td><td>19.955390 </td><td>15.7964311</td><td> 548      </td><td> 577      </td><td>54173     </td></tr>\n",
       "</tbody>\n",
       "</table>\n"
      ],
      "text/latex": [
       "\\begin{tabular}{r|llllll}\n",
       " carrier & mean\\_dep & mean\\_arr & max\\_dep & max\\_arr & count\\\\\n",
       "\\hline\n",
       "\t 9E         & 16.725769  &  7.3796692 &  747       &  744       & 18460     \\\\\n",
       "\t AA         &  8.586016  &  0.3642909 & 1014       & 1007       & 32729     \\\\\n",
       "\t AS         &  5.804775  & -9.9308886 &  225       &  198       &   714     \\\\\n",
       "\t B6         & 13.022522  &  9.4579733 &  502       &  497       & 54635     \\\\\n",
       "\t DL         &  9.264505  &  1.6443409 &  960       &  931       & 48110     \\\\\n",
       "\t EV         & 19.955390  & 15.7964311 &  548       &  577       & 54173     \\\\\n",
       "\\end{tabular}\n"
      ],
      "text/markdown": [
       "\n",
       "carrier | mean_dep | mean_arr | max_dep | max_arr | count | \n",
       "|---|---|---|---|---|---|\n",
       "| 9E         | 16.725769  |  7.3796692 |  747       |  744       | 18460      | \n",
       "| AA         |  8.586016  |  0.3642909 | 1014       | 1007       | 32729      | \n",
       "| AS         |  5.804775  | -9.9308886 |  225       |  198       |   714      | \n",
       "| B6         | 13.022522  |  9.4579733 |  502       |  497       | 54635      | \n",
       "| DL         |  9.264505  |  1.6443409 |  960       |  931       | 48110      | \n",
       "| EV         | 19.955390  | 15.7964311 |  548       |  577       | 54173      | \n",
       "\n",
       "\n"
      ],
      "text/plain": [
       "  carrier mean_dep  mean_arr   max_dep max_arr count\n",
       "1 9E      16.725769  7.3796692  747     744    18460\n",
       "2 AA       8.586016  0.3642909 1014    1007    32729\n",
       "3 AS       5.804775 -9.9308886  225     198      714\n",
       "4 B6      13.022522  9.4579733  502     497    54635\n",
       "5 DL       9.264505  1.6443409  960     931    48110\n",
       "6 EV      19.955390 15.7964311  548     577    54173"
      ]
     },
     "metadata": {},
     "output_type": "display_data"
    }
   ],
   "source": [
    "usingPipes <- flights %>%\n",
    "            group_by(carrier) %>%\n",
    "            summarise(mean_dep = mean(dep_delay, na.rm=T),\n",
    "                      mean_arr = mean(arr_delay, na.rm=T),\n",
    "                      max_dep = max(dep_delay, na.rm=T),\n",
    "                      max_arr = max(arr_delay, na.rm=T),\n",
    "                      count = n())\n",
    "head(usingPipes)"
   ]
  },
  {
   "cell_type": "markdown",
   "metadata": {},
   "source": [
    "Lastly, let's investigate trends of delays by the time of day. We can use <code>mutate()</code> to quickly bin the hours of the day."
   ]
  },
  {
   "cell_type": "code",
   "execution_count": 6,
   "metadata": {
    "collapsed": false
   },
   "outputs": [
    {
     "data": {
      "text/html": [
       "<table>\n",
       "<thead><tr><th scope=col>quarterOfDay</th><th scope=col>count</th><th scope=col>dep_longest</th><th scope=col>arr_longest</th><th scope=col>mean_dep</th><th scope=col>mean_arr</th></tr></thead>\n",
       "<tbody>\n",
       "\t<tr><td>0         </td><td>  1954    </td><td> 201      </td><td> 208      </td><td> 0.6877572</td><td>-4.796907 </td></tr>\n",
       "\t<tr><td>1         </td><td>129067    </td><td>1301      </td><td>1272      </td><td> 3.9934566</td><td>-1.777916 </td></tr>\n",
       "\t<tr><td>2         </td><td>131159    </td><td>1126      </td><td>1109      </td><td>15.5022961</td><td>10.427029 </td></tr>\n",
       "\t<tr><td>3         </td><td> 74596    </td><td>1137      </td><td>1127      </td><td>23.1408445</td><td>16.269685 </td></tr>\n",
       "</tbody>\n",
       "</table>\n"
      ],
      "text/latex": [
       "\\begin{tabular}{r|llllll}\n",
       " quarterOfDay & count & dep\\_longest & arr\\_longest & mean\\_dep & mean\\_arr\\\\\n",
       "\\hline\n",
       "\t 0          &   1954     &  201       &  208       &  0.6877572 & -4.796907 \\\\\n",
       "\t 1          & 129067     & 1301       & 1272       &  3.9934566 & -1.777916 \\\\\n",
       "\t 2          & 131159     & 1126       & 1109       & 15.5022961 & 10.427029 \\\\\n",
       "\t 3          &  74596     & 1137       & 1127       & 23.1408445 & 16.269685 \\\\\n",
       "\\end{tabular}\n"
      ],
      "text/markdown": [
       "\n",
       "quarterOfDay | count | dep_longest | arr_longest | mean_dep | mean_arr | \n",
       "|---|---|---|---|\n",
       "| 0          |   1954     |  201       |  208       |  0.6877572 | -4.796907  | \n",
       "| 1          | 129067     | 1301       | 1272       |  3.9934566 | -1.777916  | \n",
       "| 2          | 131159     | 1126       | 1109       | 15.5022961 | 10.427029  | \n",
       "| 3          |  74596     | 1137       | 1127       | 23.1408445 | 16.269685  | \n",
       "\n",
       "\n"
      ],
      "text/plain": [
       "  quarterOfDay count  dep_longest arr_longest mean_dep   mean_arr \n",
       "1 0              1954  201         208         0.6877572 -4.796907\n",
       "2 1            129067 1301        1272         3.9934566 -1.777916\n",
       "3 2            131159 1126        1109        15.5022961 10.427029\n",
       "4 3             74596 1137        1127        23.1408445 16.269685"
      ]
     },
     "metadata": {},
     "output_type": "display_data"
    }
   ],
   "source": [
    "# Nested ifelse() functions act as normal if/else statements\n",
    "# Basic syntax: ifelse(condition, if_True, if_False)\n",
    "flights2 <- mutate(flights, \n",
    "                   quarterOfDay = ifelse(hour >= 0 & hour < 6, 0, \n",
    "                                         ifelse(hour >= 6 & hour < 12, 1, \n",
    "                                                ifelse(hour >= 12 & hour < 18, 2, 3))))\n",
    "\n",
    "delaysByDay <- flights2 %>%\n",
    "                group_by(quarterOfDay) %>%\n",
    "                summarise(count = n(),\n",
    "                          dep_longest = max(dep_delay, na.rm=T),\n",
    "                          arr_longest = max(arr_delay, na.rm=T),\n",
    "                          mean_dep = mean(dep_delay, na.rm=T),\n",
    "                          mean_arr = mean(arr_delay, na.rm=T))\n",
    "head(delaysByDay)"
   ]
  },
  {
   "cell_type": "markdown",
   "metadata": {
    "collapsed": true
   },
   "source": [
    "Looks like flights in the early AM have the shortest delays, remember that when you start planning your own vactions! This could be caused by the lower amount of flights overall (looking at the <code>count</code> variable).\n",
    "\n",
    "## Joining Dataframes\n",
    "\n",
    "Very quickly, I would like to cover how to merge dataframes in R. This is also a common task if you end up using R in your career. Imagine you have a dataframe of your customers' transaction histories and a second dataframe with your customers' account balances. At some point, you'll probably need to merge them. <strong>There are four basic types of joins</strong> and they all require a common column between them, called the ID variable. \n",
    "\n",
    "- <strong>Outter Join</strong>: When joining two dataframes A and B, this type of merge will keep all observations from both dataframes. If there is a record in A that does not have a matching id in B, it will still be kept (the reverse is also true).\n",
    "- <strong>Inner Join</strong>: When joining A and B, this merge will only keep records for which there is a match on the id in <em>both</em> A and B.\n",
    "- <strong>Left Join</strong>: When joining A and B, this merge will keep all records in A (because it's on the <em>left</em>) and only keep records from B for which there is a match on the id variable.\n",
    "- <strong>Right Join</strong>: When joining A and B, this merge will keep all records in B (because it's on the <em>right</em>) and only keep records from A for which there is a match on the id variable.\n",
    "\n",
    "This is a common task in [SQL](https://en.wikipedia.org/wiki/SQL), and some people make a living writing very complex SQL queries! While the basics of SQL are simple, joining and filtering database tables can become a difficult task--with queries ranging from 30 to 50 lines long. You can begin learning the basics of SQL queries right in RStudio by using Gabor Grothendieck's [sqldf package](https://cran.r-project.org/web/packages/sqldf/sqldf.pdf).\n",
    "\n",
    "The two dataframes below have 40 transactions from our 10 customers. Looking at the "
   ]
  },
  {
   "cell_type": "code",
   "execution_count": 7,
   "metadata": {
    "collapsed": false
   },
   "outputs": [
    {
     "data": {
      "text/html": [
       "<table>\n",
       "<thead><tr><th scope=col>customerId</th><th scope=col>transAmount</th><th scope=col>nGoods</th></tr></thead>\n",
       "<tbody>\n",
       "\t<tr><td>6    </td><td>26.43</td><td>6    </td></tr>\n",
       "\t<tr><td>2    </td><td>66.28</td><td>3    </td></tr>\n",
       "\t<tr><td>4    </td><td>59.82</td><td>1    </td></tr>\n",
       "\t<tr><td>2    </td><td>61.70</td><td>9    </td></tr>\n",
       "\t<tr><td>9    </td><td>30.26</td><td>7    </td></tr>\n",
       "\t<tr><td>6    </td><td>59.42</td><td>9    </td></tr>\n",
       "</tbody>\n",
       "</table>\n"
      ],
      "text/latex": [
       "\\begin{tabular}{r|lll}\n",
       " customerId & transAmount & nGoods\\\\\n",
       "\\hline\n",
       "\t 6     & 26.43 & 6    \\\\\n",
       "\t 2     & 66.28 & 3    \\\\\n",
       "\t 4     & 59.82 & 1    \\\\\n",
       "\t 2     & 61.70 & 9    \\\\\n",
       "\t 9     & 30.26 & 7    \\\\\n",
       "\t 6     & 59.42 & 9    \\\\\n",
       "\\end{tabular}\n"
      ],
      "text/markdown": [
       "\n",
       "customerId | transAmount | nGoods | \n",
       "|---|---|---|---|---|---|\n",
       "| 6     | 26.43 | 6     | \n",
       "| 2     | 66.28 | 3     | \n",
       "| 4     | 59.82 | 1     | \n",
       "| 2     | 61.70 | 9     | \n",
       "| 9     | 30.26 | 7     | \n",
       "| 6     | 59.42 | 9     | \n",
       "\n",
       "\n"
      ],
      "text/plain": [
       "  customerId transAmount nGoods\n",
       "1 6          26.43       6     \n",
       "2 2          66.28       3     \n",
       "3 4          59.82       1     \n",
       "4 2          61.70       9     \n",
       "5 9          30.26       7     \n",
       "6 6          59.42       9     "
      ]
     },
     "metadata": {},
     "output_type": "display_data"
    },
    {
     "data": {
      "text/html": [
       "<table>\n",
       "<thead><tr><th scope=col>customerId</th><th scope=col>customerSince</th><th scope=col>age</th><th scope=col>sex</th></tr></thead>\n",
       "<tbody>\n",
       "\t<tr><td>1   </td><td>2007</td><td>50  </td><td>1   </td></tr>\n",
       "\t<tr><td>2   </td><td>1999</td><td>54  </td><td>0   </td></tr>\n",
       "\t<tr><td>3   </td><td>2008</td><td>65  </td><td>0   </td></tr>\n",
       "\t<tr><td>4   </td><td>1992</td><td>59  </td><td>1   </td></tr>\n",
       "\t<tr><td>5   </td><td>2014</td><td>46  </td><td>1   </td></tr>\n",
       "\t<tr><td>6   </td><td>1991</td><td>37  </td><td>0   </td></tr>\n",
       "</tbody>\n",
       "</table>\n"
      ],
      "text/latex": [
       "\\begin{tabular}{r|llll}\n",
       " customerId & customerSince & age & sex\\\\\n",
       "\\hline\n",
       "\t 1    & 2007 & 50   & 1   \\\\\n",
       "\t 2    & 1999 & 54   & 0   \\\\\n",
       "\t 3    & 2008 & 65   & 0   \\\\\n",
       "\t 4    & 1992 & 59   & 1   \\\\\n",
       "\t 5    & 2014 & 46   & 1   \\\\\n",
       "\t 6    & 1991 & 37   & 0   \\\\\n",
       "\\end{tabular}\n"
      ],
      "text/markdown": [
       "\n",
       "customerId | customerSince | age | sex | \n",
       "|---|---|---|---|---|---|\n",
       "| 1    | 2007 | 50   | 1    | \n",
       "| 2    | 1999 | 54   | 0    | \n",
       "| 3    | 2008 | 65   | 0    | \n",
       "| 4    | 1992 | 59   | 1    | \n",
       "| 5    | 2014 | 46   | 1    | \n",
       "| 6    | 1991 | 37   | 0    | \n",
       "\n",
       "\n"
      ],
      "text/plain": [
       "  customerId customerSince age sex\n",
       "1 1          2007          50  1  \n",
       "2 2          1999          54  0  \n",
       "3 3          2008          65  0  \n",
       "4 4          1992          59  1  \n",
       "5 5          2014          46  1  \n",
       "6 6          1991          37  0  "
      ]
     },
     "metadata": {},
     "output_type": "display_data"
    }
   ],
   "source": [
    "# Transaction history - 40 rows\n",
    "transactions <- data.frame(customerId=sample(1:10, 40, replace=T),\n",
    "                           transAmount=round(runif(n=40, min=10, max=75),2),\n",
    "                           nGoods=sample(1:10, size=40, replace=T)\n",
    "                          )\n",
    "\n",
    "# Customer data - 10 rows\n",
    "customers <- data.frame(customerId=seq(1,10),\n",
    "                        customerSince=sample(1990:2016, size=10, replace=T),\n",
    "                        age=round(runif(n=10, min=30, max=65),0),\n",
    "                        sex=sample(c(0,1), size=10, replace=T)\n",
    "                       )\n",
    "\n",
    "head(transactions)\n",
    "head(customers)"
   ]
  },
  {
   "cell_type": "code",
   "execution_count": 8,
   "metadata": {
    "collapsed": false
   },
   "outputs": [
    {
     "data": {
      "text/html": [
       "<table>\n",
       "<thead><tr><th scope=col>customerId</th><th scope=col>transAmount</th><th scope=col>nGoods</th><th scope=col>customerSince</th><th scope=col>age</th><th scope=col>sex</th></tr></thead>\n",
       "<tbody>\n",
       "\t<tr><td>6    </td><td>26.43</td><td>6    </td><td>1991 </td><td>37   </td><td>0    </td></tr>\n",
       "\t<tr><td>2    </td><td>66.28</td><td>3    </td><td>1999 </td><td>54   </td><td>0    </td></tr>\n",
       "\t<tr><td>4    </td><td>59.82</td><td>1    </td><td>1992 </td><td>59   </td><td>1    </td></tr>\n",
       "\t<tr><td>2    </td><td>61.70</td><td>9    </td><td>1999 </td><td>54   </td><td>0    </td></tr>\n",
       "\t<tr><td>9    </td><td>30.26</td><td>7    </td><td>2004 </td><td>63   </td><td>0    </td></tr>\n",
       "\t<tr><td>6    </td><td>59.42</td><td>9    </td><td>1991 </td><td>37   </td><td>0    </td></tr>\n",
       "</tbody>\n",
       "</table>\n"
      ],
      "text/latex": [
       "\\begin{tabular}{r|llllll}\n",
       " customerId & transAmount & nGoods & customerSince & age & sex\\\\\n",
       "\\hline\n",
       "\t 6     & 26.43 & 6     & 1991  & 37    & 0    \\\\\n",
       "\t 2     & 66.28 & 3     & 1999  & 54    & 0    \\\\\n",
       "\t 4     & 59.82 & 1     & 1992  & 59    & 1    \\\\\n",
       "\t 2     & 61.70 & 9     & 1999  & 54    & 0    \\\\\n",
       "\t 9     & 30.26 & 7     & 2004  & 63    & 0    \\\\\n",
       "\t 6     & 59.42 & 9     & 1991  & 37    & 0    \\\\\n",
       "\\end{tabular}\n"
      ],
      "text/markdown": [
       "\n",
       "customerId | transAmount | nGoods | customerSince | age | sex | \n",
       "|---|---|---|---|---|---|\n",
       "| 6     | 26.43 | 6     | 1991  | 37    | 0     | \n",
       "| 2     | 66.28 | 3     | 1999  | 54    | 0     | \n",
       "| 4     | 59.82 | 1     | 1992  | 59    | 1     | \n",
       "| 2     | 61.70 | 9     | 1999  | 54    | 0     | \n",
       "| 9     | 30.26 | 7     | 2004  | 63    | 0     | \n",
       "| 6     | 59.42 | 9     | 1991  | 37    | 0     | \n",
       "\n",
       "\n"
      ],
      "text/plain": [
       "  customerId transAmount nGoods customerSince age sex\n",
       "1 6          26.43       6      1991          37  0  \n",
       "2 2          66.28       3      1999          54  0  \n",
       "3 4          59.82       1      1992          59  1  \n",
       "4 2          61.70       9      1999          54  0  \n",
       "5 9          30.26       7      2004          63  0  \n",
       "6 6          59.42       9      1991          37  0  "
      ]
     },
     "metadata": {},
     "output_type": "display_data"
    },
    {
     "data": {
      "text/html": [
       "<table>\n",
       "<thead><tr><th scope=col>customerId</th><th scope=col>transAmount</th><th scope=col>nGoods</th><th scope=col>customerSince</th><th scope=col>age</th><th scope=col>sex</th></tr></thead>\n",
       "<tbody>\n",
       "\t<tr><td>1    </td><td>29.04</td><td> 2   </td><td>2007 </td><td>50   </td><td>1    </td></tr>\n",
       "\t<tr><td>1    </td><td>63.77</td><td> 3   </td><td>2007 </td><td>50   </td><td>1    </td></tr>\n",
       "\t<tr><td>1    </td><td>18.60</td><td>10   </td><td>2007 </td><td>50   </td><td>1    </td></tr>\n",
       "\t<tr><td>2    </td><td>66.28</td><td> 3   </td><td>1999 </td><td>54   </td><td>0    </td></tr>\n",
       "\t<tr><td>2    </td><td>61.70</td><td> 9   </td><td>1999 </td><td>54   </td><td>0    </td></tr>\n",
       "\t<tr><td>2    </td><td>16.73</td><td> 5   </td><td>1999 </td><td>54   </td><td>0    </td></tr>\n",
       "</tbody>\n",
       "</table>\n"
      ],
      "text/latex": [
       "\\begin{tabular}{r|llllll}\n",
       " customerId & transAmount & nGoods & customerSince & age & sex\\\\\n",
       "\\hline\n",
       "\t 1     & 29.04 &  2    & 2007  & 50    & 1    \\\\\n",
       "\t 1     & 63.77 &  3    & 2007  & 50    & 1    \\\\\n",
       "\t 1     & 18.60 & 10    & 2007  & 50    & 1    \\\\\n",
       "\t 2     & 66.28 &  3    & 1999  & 54    & 0    \\\\\n",
       "\t 2     & 61.70 &  9    & 1999  & 54    & 0    \\\\\n",
       "\t 2     & 16.73 &  5    & 1999  & 54    & 0    \\\\\n",
       "\\end{tabular}\n"
      ],
      "text/markdown": [
       "\n",
       "customerId | transAmount | nGoods | customerSince | age | sex | \n",
       "|---|---|---|---|---|---|\n",
       "| 1     | 29.04 |  2    | 2007  | 50    | 1     | \n",
       "| 1     | 63.77 |  3    | 2007  | 50    | 1     | \n",
       "| 1     | 18.60 | 10    | 2007  | 50    | 1     | \n",
       "| 2     | 66.28 |  3    | 1999  | 54    | 0     | \n",
       "| 2     | 61.70 |  9    | 1999  | 54    | 0     | \n",
       "| 2     | 16.73 |  5    | 1999  | 54    | 0     | \n",
       "\n",
       "\n"
      ],
      "text/plain": [
       "  customerId transAmount nGoods customerSince age sex\n",
       "1 1          29.04        2     2007          50  1  \n",
       "2 1          63.77        3     2007          50  1  \n",
       "3 1          18.60       10     2007          50  1  \n",
       "4 2          66.28        3     1999          54  0  \n",
       "5 2          61.70        9     1999          54  0  \n",
       "6 2          16.73        5     1999          54  0  "
      ]
     },
     "metadata": {},
     "output_type": "display_data"
    }
   ],
   "source": [
    "# Left join transactions and customers\n",
    "leftJoin <- join(x=transactions, y=customers, \n",
    "               by=\"customerId\", type=\"left\")\n",
    "\n",
    "# Right join transactions and customers\n",
    "rightJoin <- join(x=transactions, y=customers, \n",
    "               by=\"customerId\", type=\"right\")\n",
    "\n",
    "head(leftJoin)\n",
    "head(rightJoin)"
   ]
  },
  {
   "cell_type": "markdown",
   "metadata": {},
   "source": [
    "## Exercises\n",
    "\n",
    "As always, these exercises will start easy and slowly get more difficult."
   ]
  },
  {
   "cell_type": "code",
   "execution_count": 2,
   "metadata": {
    "collapsed": false
   },
   "outputs": [
    {
     "data": {
      "text/html": [
       "<table>\n",
       "<thead><tr><th scope=col>carat</th><th scope=col>cut</th><th scope=col>color</th><th scope=col>clarity</th><th scope=col>depth</th><th scope=col>table</th><th scope=col>price</th><th scope=col>x</th><th scope=col>y</th><th scope=col>z</th></tr></thead>\n",
       "<tbody>\n",
       "\t<tr><td>0.23     </td><td>Ideal    </td><td>E        </td><td>SI2      </td><td>61.5     </td><td>55       </td><td>326      </td><td>3.95     </td><td>3.98     </td><td>2.43     </td></tr>\n",
       "\t<tr><td>0.21     </td><td>Premium  </td><td>E        </td><td>SI1      </td><td>59.8     </td><td>61       </td><td>326      </td><td>3.89     </td><td>3.84     </td><td>2.31     </td></tr>\n",
       "\t<tr><td>0.23     </td><td>Good     </td><td>E        </td><td>VS1      </td><td>56.9     </td><td>65       </td><td>327      </td><td>4.05     </td><td>4.07     </td><td>2.31     </td></tr>\n",
       "\t<tr><td>0.29     </td><td>Premium  </td><td>I        </td><td>VS2      </td><td>62.4     </td><td>58       </td><td>334      </td><td>4.20     </td><td>4.23     </td><td>2.63     </td></tr>\n",
       "\t<tr><td>0.31     </td><td>Good     </td><td>J        </td><td>SI2      </td><td>63.3     </td><td>58       </td><td>335      </td><td>4.34     </td><td>4.35     </td><td>2.75     </td></tr>\n",
       "\t<tr><td>0.24     </td><td>Very Good</td><td>J        </td><td>VVS2     </td><td>62.8     </td><td>57       </td><td>336      </td><td>3.94     </td><td>3.96     </td><td>2.48     </td></tr>\n",
       "</tbody>\n",
       "</table>\n"
      ],
      "text/latex": [
       "\\begin{tabular}{r|llllllllll}\n",
       " carat & cut & color & clarity & depth & table & price & x & y & z\\\\\n",
       "\\hline\n",
       "\t 0.23      & Ideal     & E         & SI2       & 61.5      & 55        & 326       & 3.95      & 3.98      & 2.43     \\\\\n",
       "\t 0.21      & Premium   & E         & SI1       & 59.8      & 61        & 326       & 3.89      & 3.84      & 2.31     \\\\\n",
       "\t 0.23      & Good      & E         & VS1       & 56.9      & 65        & 327       & 4.05      & 4.07      & 2.31     \\\\\n",
       "\t 0.29      & Premium   & I         & VS2       & 62.4      & 58        & 334       & 4.20      & 4.23      & 2.63     \\\\\n",
       "\t 0.31      & Good      & J         & SI2       & 63.3      & 58        & 335       & 4.34      & 4.35      & 2.75     \\\\\n",
       "\t 0.24      & Very Good & J         & VVS2      & 62.8      & 57        & 336       & 3.94      & 3.96      & 2.48     \\\\\n",
       "\\end{tabular}\n"
      ],
      "text/markdown": [
       "\n",
       "carat | cut | color | clarity | depth | table | price | x | y | z | \n",
       "|---|---|---|---|---|---|\n",
       "| 0.23      | Ideal     | E         | SI2       | 61.5      | 55        | 326       | 3.95      | 3.98      | 2.43      | \n",
       "| 0.21      | Premium   | E         | SI1       | 59.8      | 61        | 326       | 3.89      | 3.84      | 2.31      | \n",
       "| 0.23      | Good      | E         | VS1       | 56.9      | 65        | 327       | 4.05      | 4.07      | 2.31      | \n",
       "| 0.29      | Premium   | I         | VS2       | 62.4      | 58        | 334       | 4.20      | 4.23      | 2.63      | \n",
       "| 0.31      | Good      | J         | SI2       | 63.3      | 58        | 335       | 4.34      | 4.35      | 2.75      | \n",
       "| 0.24      | Very Good | J         | VVS2      | 62.8      | 57        | 336       | 3.94      | 3.96      | 2.48      | \n",
       "\n",
       "\n"
      ],
      "text/plain": [
       "  carat cut       color clarity depth table price x    y    z   \n",
       "1 0.23  Ideal     E     SI2     61.5  55    326   3.95 3.98 2.43\n",
       "2 0.21  Premium   E     SI1     59.8  61    326   3.89 3.84 2.31\n",
       "3 0.23  Good      E     VS1     56.9  65    327   4.05 4.07 2.31\n",
       "4 0.29  Premium   I     VS2     62.4  58    334   4.20 4.23 2.63\n",
       "5 0.31  Good      J     SI2     63.3  58    335   4.34 4.35 2.75\n",
       "6 0.24  Very Good J     VVS2    62.8  57    336   3.94 3.96 2.48"
      ]
     },
     "metadata": {},
     "output_type": "display_data"
    }
   ],
   "source": [
    "# let's use a dataframe from the ggplot2 package\n",
    "# you will need to install the package if you have not already\n",
    "\n",
    "#install.packages(\"ggplot2\")\n",
    "\n",
    "library(ggplot2)\n",
    "head(diamonds)"
   ]
  },
  {
   "cell_type": "code",
   "execution_count": 19,
   "metadata": {
    "collapsed": false
   },
   "outputs": [
    {
     "data": {
      "text/html": [
       "<table>\n",
       "<thead><tr><th scope=col>carat</th><th scope=col>cut</th><th scope=col>color</th><th scope=col>clarity</th><th scope=col>depth</th><th scope=col>table</th><th scope=col>price</th><th scope=col>x</th><th scope=col>y</th><th scope=col>z</th></tr></thead>\n",
       "<tbody>\n",
       "\t<tr><td>2.29     </td><td>Premium  </td><td>I        </td><td>VS2      </td><td>60.8     </td><td>60       </td><td>18823    </td><td>8.50     </td><td>8.47     </td><td>5.16     </td></tr>\n",
       "\t<tr><td>2.00     </td><td>Very Good</td><td>G        </td><td>SI1      </td><td>63.5     </td><td>56       </td><td>18818    </td><td>7.90     </td><td>7.97     </td><td>5.04     </td></tr>\n",
       "\t<tr><td>1.51     </td><td>Ideal    </td><td>G        </td><td>IF       </td><td>61.7     </td><td>55       </td><td>18806    </td><td>7.37     </td><td>7.41     </td><td>4.56     </td></tr>\n",
       "\t<tr><td>2.07     </td><td>Ideal    </td><td>G        </td><td>SI2      </td><td>62.5     </td><td>55       </td><td>18804    </td><td>8.20     </td><td>8.13     </td><td>5.11     </td></tr>\n",
       "\t<tr><td>2.00     </td><td>Very Good</td><td>H        </td><td>SI1      </td><td>62.8     </td><td>57       </td><td>18803    </td><td>7.95     </td><td>8.00     </td><td>5.01     </td></tr>\n",
       "\t<tr><td>2.29     </td><td>Premium  </td><td>I        </td><td>SI1      </td><td>61.8     </td><td>59       </td><td>18797    </td><td>8.52     </td><td>8.45     </td><td>5.24     </td></tr>\n",
       "</tbody>\n",
       "</table>\n"
      ],
      "text/latex": [
       "\\begin{tabular}{r|llllllllll}\n",
       " carat & cut & color & clarity & depth & table & price & x & y & z\\\\\n",
       "\\hline\n",
       "\t 2.29      & Premium   & I         & VS2       & 60.8      & 60        & 18823     & 8.50      & 8.47      & 5.16     \\\\\n",
       "\t 2.00      & Very Good & G         & SI1       & 63.5      & 56        & 18818     & 7.90      & 7.97      & 5.04     \\\\\n",
       "\t 1.51      & Ideal     & G         & IF        & 61.7      & 55        & 18806     & 7.37      & 7.41      & 4.56     \\\\\n",
       "\t 2.07      & Ideal     & G         & SI2       & 62.5      & 55        & 18804     & 8.20      & 8.13      & 5.11     \\\\\n",
       "\t 2.00      & Very Good & H         & SI1       & 62.8      & 57        & 18803     & 7.95      & 8.00      & 5.01     \\\\\n",
       "\t 2.29      & Premium   & I         & SI1       & 61.8      & 59        & 18797     & 8.52      & 8.45      & 5.24     \\\\\n",
       "\\end{tabular}\n"
      ],
      "text/markdown": [
       "\n",
       "carat | cut | color | clarity | depth | table | price | x | y | z | \n",
       "|---|---|---|---|---|---|\n",
       "| 2.29      | Premium   | I         | VS2       | 60.8      | 60        | 18823     | 8.50      | 8.47      | 5.16      | \n",
       "| 2.00      | Very Good | G         | SI1       | 63.5      | 56        | 18818     | 7.90      | 7.97      | 5.04      | \n",
       "| 1.51      | Ideal     | G         | IF        | 61.7      | 55        | 18806     | 7.37      | 7.41      | 4.56      | \n",
       "| 2.07      | Ideal     | G         | SI2       | 62.5      | 55        | 18804     | 8.20      | 8.13      | 5.11      | \n",
       "| 2.00      | Very Good | H         | SI1       | 62.8      | 57        | 18803     | 7.95      | 8.00      | 5.01      | \n",
       "| 2.29      | Premium   | I         | SI1       | 61.8      | 59        | 18797     | 8.52      | 8.45      | 5.24      | \n",
       "\n",
       "\n"
      ],
      "text/plain": [
       "  carat cut       color clarity depth table price x    y    z   \n",
       "1 2.29  Premium   I     VS2     60.8  60    18823 8.50 8.47 5.16\n",
       "2 2.00  Very Good G     SI1     63.5  56    18818 7.90 7.97 5.04\n",
       "3 1.51  Ideal     G     IF      61.7  55    18806 7.37 7.41 4.56\n",
       "4 2.07  Ideal     G     SI2     62.5  55    18804 8.20 8.13 5.11\n",
       "5 2.00  Very Good H     SI1     62.8  57    18803 7.95 8.00 5.01\n",
       "6 2.29  Premium   I     SI1     61.8  59    18797 8.52 8.45 5.24"
      ]
     },
     "metadata": {},
     "output_type": "display_data"
    }
   ],
   "source": [
    "# Order the dataframe by the price with the highest prices at the top\n",
    "# Break any ties in price by the carat of the diamond\n",
    "\n",
    "# Do NOT using the piping operator\n",
    "\n",
    "#orderedPrice <- <FILLIN>\n",
    "orderedPrice <- arrange(diamonds, desc(price), carat)\n",
    "\n",
    "head(orderedPrice)\n",
    "stopifnot(orderedPrice$price[1] == 18823)"
   ]
  },
  {
   "cell_type": "code",
   "execution_count": 21,
   "metadata": {
    "collapsed": true
   },
   "outputs": [],
   "source": [
    "# Now accomplish the same task using the piping operator\n",
    "\n",
    "#orderedPrice2 <- <FILLIN> %>%\n",
    "#                 <FILLIN>\n",
    "\n",
    "orderedPrice2 <- diamonds %>%\n",
    "                arrange(desc(price), carat)\n",
    "\n",
    "stopifnot(orderedPrice2$price[2] == 18818)"
   ]
  },
  {
   "cell_type": "code",
   "execution_count": 10,
   "metadata": {
    "collapsed": false
   },
   "outputs": [
    {
     "data": {
      "text/html": [
       "<table>\n",
       "<thead><tr><th scope=col>carat</th><th scope=col>cut</th><th scope=col>color</th><th scope=col>clarity</th><th scope=col>depth</th><th scope=col>table</th><th scope=col>price</th><th scope=col>x</th><th scope=col>y</th><th scope=col>z</th><th scope=col>overMean</th><th scope=col>volume</th></tr></thead>\n",
       "<tbody>\n",
       "\t<tr><td>0.23     </td><td>Ideal    </td><td>E        </td><td>SI2      </td><td>61.5     </td><td>55       </td><td>326      </td><td>3.95     </td><td>3.98     </td><td>2.43     </td><td>0        </td><td>38.20    </td></tr>\n",
       "\t<tr><td>0.21     </td><td>Premium  </td><td>E        </td><td>SI1      </td><td>59.8     </td><td>61       </td><td>326      </td><td>3.89     </td><td>3.84     </td><td>2.31     </td><td>0        </td><td>34.51    </td></tr>\n",
       "\t<tr><td>0.23     </td><td>Good     </td><td>E        </td><td>VS1      </td><td>56.9     </td><td>65       </td><td>327      </td><td>4.05     </td><td>4.07     </td><td>2.31     </td><td>0        </td><td>38.08    </td></tr>\n",
       "\t<tr><td>0.29     </td><td>Premium  </td><td>I        </td><td>VS2      </td><td>62.4     </td><td>58       </td><td>334      </td><td>4.20     </td><td>4.23     </td><td>2.63     </td><td>0        </td><td>46.72    </td></tr>\n",
       "\t<tr><td>0.31     </td><td>Good     </td><td>J        </td><td>SI2      </td><td>63.3     </td><td>58       </td><td>335      </td><td>4.34     </td><td>4.35     </td><td>2.75     </td><td>0        </td><td>51.92    </td></tr>\n",
       "\t<tr><td>0.24     </td><td>Very Good</td><td>J        </td><td>VVS2     </td><td>62.8     </td><td>57       </td><td>336      </td><td>3.94     </td><td>3.96     </td><td>2.48     </td><td>0        </td><td>38.69    </td></tr>\n",
       "</tbody>\n",
       "</table>\n"
      ],
      "text/latex": [
       "\\begin{tabular}{r|llllllllllll}\n",
       " carat & cut & color & clarity & depth & table & price & x & y & z & overMean & volume\\\\\n",
       "\\hline\n",
       "\t 0.23      & Ideal     & E         & SI2       & 61.5      & 55        & 326       & 3.95      & 3.98      & 2.43      & 0         & 38.20    \\\\\n",
       "\t 0.21      & Premium   & E         & SI1       & 59.8      & 61        & 326       & 3.89      & 3.84      & 2.31      & 0         & 34.51    \\\\\n",
       "\t 0.23      & Good      & E         & VS1       & 56.9      & 65        & 327       & 4.05      & 4.07      & 2.31      & 0         & 38.08    \\\\\n",
       "\t 0.29      & Premium   & I         & VS2       & 62.4      & 58        & 334       & 4.20      & 4.23      & 2.63      & 0         & 46.72    \\\\\n",
       "\t 0.31      & Good      & J         & SI2       & 63.3      & 58        & 335       & 4.34      & 4.35      & 2.75      & 0         & 51.92    \\\\\n",
       "\t 0.24      & Very Good & J         & VVS2      & 62.8      & 57        & 336       & 3.94      & 3.96      & 2.48      & 0         & 38.69    \\\\\n",
       "\\end{tabular}\n"
      ],
      "text/markdown": [
       "\n",
       "carat | cut | color | clarity | depth | table | price | x | y | z | overMean | volume | \n",
       "|---|---|---|---|---|---|\n",
       "| 0.23      | Ideal     | E         | SI2       | 61.5      | 55        | 326       | 3.95      | 3.98      | 2.43      | 0         | 38.20     | \n",
       "| 0.21      | Premium   | E         | SI1       | 59.8      | 61        | 326       | 3.89      | 3.84      | 2.31      | 0         | 34.51     | \n",
       "| 0.23      | Good      | E         | VS1       | 56.9      | 65        | 327       | 4.05      | 4.07      | 2.31      | 0         | 38.08     | \n",
       "| 0.29      | Premium   | I         | VS2       | 62.4      | 58        | 334       | 4.20      | 4.23      | 2.63      | 0         | 46.72     | \n",
       "| 0.31      | Good      | J         | SI2       | 63.3      | 58        | 335       | 4.34      | 4.35      | 2.75      | 0         | 51.92     | \n",
       "| 0.24      | Very Good | J         | VVS2      | 62.8      | 57        | 336       | 3.94      | 3.96      | 2.48      | 0         | 38.69     | \n",
       "\n",
       "\n"
      ],
      "text/plain": [
       "  carat cut       color clarity depth table price x    y    z    overMean\n",
       "1 0.23  Ideal     E     SI2     61.5  55    326   3.95 3.98 2.43 0       \n",
       "2 0.21  Premium   E     SI1     59.8  61    326   3.89 3.84 2.31 0       \n",
       "3 0.23  Good      E     VS1     56.9  65    327   4.05 4.07 2.31 0       \n",
       "4 0.29  Premium   I     VS2     62.4  58    334   4.20 4.23 2.63 0       \n",
       "5 0.31  Good      J     SI2     63.3  58    335   4.34 4.35 2.75 0       \n",
       "6 0.24  Very Good J     VVS2    62.8  57    336   3.94 3.96 2.48 0       \n",
       "  volume\n",
       "1 38.20 \n",
       "2 34.51 \n",
       "3 38.08 \n",
       "4 46.72 \n",
       "5 51.92 \n",
       "6 38.69 "
      ]
     },
     "metadata": {},
     "output_type": "display_data"
    }
   ],
   "source": [
    "# The variables \"x\", \"y\", and \"z\" are meaurements on the length, width, and height.\n",
    "# Use mutate to create a new column called \"volume\", this new variable should\n",
    "# equal the volume of the diamond. Round the values to two decimal points.\n",
    "\n",
    "#diamonds <- mutate(<FILLIN>)\n",
    "diamonds <- mutate(diamonds, volume = round(x*y*z, 2))\n",
    "head(diamonds)\n",
    "\n",
    "stopifnot(diamonds$volume[1] == 38.20)"
   ]
  },
  {
   "cell_type": "code",
   "execution_count": 11,
   "metadata": {
    "collapsed": false
   },
   "outputs": [
    {
     "data": {
      "text/html": [
       "<table>\n",
       "<thead><tr><th scope=col>carat</th><th scope=col>cut</th><th scope=col>color</th><th scope=col>clarity</th><th scope=col>depth</th><th scope=col>table</th><th scope=col>price</th><th scope=col>x</th><th scope=col>y</th><th scope=col>z</th><th scope=col>overMean</th><th scope=col>volume</th></tr></thead>\n",
       "<tbody>\n",
       "\t<tr><td>0.23     </td><td>Ideal    </td><td>E        </td><td>SI2      </td><td>61.5     </td><td>55       </td><td>326      </td><td>3.95     </td><td>3.98     </td><td>2.43     </td><td>0        </td><td>38.20    </td></tr>\n",
       "\t<tr><td>0.21     </td><td>Premium  </td><td>E        </td><td>SI1      </td><td>59.8     </td><td>61       </td><td>326      </td><td>3.89     </td><td>3.84     </td><td>2.31     </td><td>0        </td><td>34.51    </td></tr>\n",
       "\t<tr><td>0.23     </td><td>Good     </td><td>E        </td><td>VS1      </td><td>56.9     </td><td>65       </td><td>327      </td><td>4.05     </td><td>4.07     </td><td>2.31     </td><td>0        </td><td>38.08    </td></tr>\n",
       "\t<tr><td>0.29     </td><td>Premium  </td><td>I        </td><td>VS2      </td><td>62.4     </td><td>58       </td><td>334      </td><td>4.20     </td><td>4.23     </td><td>2.63     </td><td>0        </td><td>46.72    </td></tr>\n",
       "\t<tr><td>0.31     </td><td>Good     </td><td>J        </td><td>SI2      </td><td>63.3     </td><td>58       </td><td>335      </td><td>4.34     </td><td>4.35     </td><td>2.75     </td><td>0        </td><td>51.92    </td></tr>\n",
       "\t<tr><td>0.24     </td><td>Very Good</td><td>J        </td><td>VVS2     </td><td>62.8     </td><td>57       </td><td>336      </td><td>3.94     </td><td>3.96     </td><td>2.48     </td><td>0        </td><td>38.69    </td></tr>\n",
       "</tbody>\n",
       "</table>\n"
      ],
      "text/latex": [
       "\\begin{tabular}{r|llllllllllll}\n",
       " carat & cut & color & clarity & depth & table & price & x & y & z & overMean & volume\\\\\n",
       "\\hline\n",
       "\t 0.23      & Ideal     & E         & SI2       & 61.5      & 55        & 326       & 3.95      & 3.98      & 2.43      & 0         & 38.20    \\\\\n",
       "\t 0.21      & Premium   & E         & SI1       & 59.8      & 61        & 326       & 3.89      & 3.84      & 2.31      & 0         & 34.51    \\\\\n",
       "\t 0.23      & Good      & E         & VS1       & 56.9      & 65        & 327       & 4.05      & 4.07      & 2.31      & 0         & 38.08    \\\\\n",
       "\t 0.29      & Premium   & I         & VS2       & 62.4      & 58        & 334       & 4.20      & 4.23      & 2.63      & 0         & 46.72    \\\\\n",
       "\t 0.31      & Good      & J         & SI2       & 63.3      & 58        & 335       & 4.34      & 4.35      & 2.75      & 0         & 51.92    \\\\\n",
       "\t 0.24      & Very Good & J         & VVS2      & 62.8      & 57        & 336       & 3.94      & 3.96      & 2.48      & 0         & 38.69    \\\\\n",
       "\\end{tabular}\n"
      ],
      "text/markdown": [
       "\n",
       "carat | cut | color | clarity | depth | table | price | x | y | z | overMean | volume | \n",
       "|---|---|---|---|---|---|\n",
       "| 0.23      | Ideal     | E         | SI2       | 61.5      | 55        | 326       | 3.95      | 3.98      | 2.43      | 0         | 38.20     | \n",
       "| 0.21      | Premium   | E         | SI1       | 59.8      | 61        | 326       | 3.89      | 3.84      | 2.31      | 0         | 34.51     | \n",
       "| 0.23      | Good      | E         | VS1       | 56.9      | 65        | 327       | 4.05      | 4.07      | 2.31      | 0         | 38.08     | \n",
       "| 0.29      | Premium   | I         | VS2       | 62.4      | 58        | 334       | 4.20      | 4.23      | 2.63      | 0         | 46.72     | \n",
       "| 0.31      | Good      | J         | SI2       | 63.3      | 58        | 335       | 4.34      | 4.35      | 2.75      | 0         | 51.92     | \n",
       "| 0.24      | Very Good | J         | VVS2      | 62.8      | 57        | 336       | 3.94      | 3.96      | 2.48      | 0         | 38.69     | \n",
       "\n",
       "\n"
      ],
      "text/plain": [
       "  carat cut       color clarity depth table price x    y    z    overMean\n",
       "1 0.23  Ideal     E     SI2     61.5  55    326   3.95 3.98 2.43 0       \n",
       "2 0.21  Premium   E     SI1     59.8  61    326   3.89 3.84 2.31 0       \n",
       "3 0.23  Good      E     VS1     56.9  65    327   4.05 4.07 2.31 0       \n",
       "4 0.29  Premium   I     VS2     62.4  58    334   4.20 4.23 2.63 0       \n",
       "5 0.31  Good      J     SI2     63.3  58    335   4.34 4.35 2.75 0       \n",
       "6 0.24  Very Good J     VVS2    62.8  57    336   3.94 3.96 2.48 0       \n",
       "  volume\n",
       "1 38.20 \n",
       "2 34.51 \n",
       "3 38.08 \n",
       "4 46.72 \n",
       "5 51.92 \n",
       "6 38.69 "
      ]
     },
     "metadata": {},
     "output_type": "display_data"
    }
   ],
   "source": [
    "# use mutate() to create a new logical column called \"overMean\"\n",
    "# This variable should equal 1 if the price is over the mean price,\n",
    "# and be 0 if the price is under the mean\n",
    "\n",
    "#diamonds <- mutate(<FILLIN>)\n",
    "diamonds <- mutate(diamonds, overMean = ifelse(price > mean(price),1,0))\n",
    "\n",
    "\n",
    "head(diamonds)\n",
    "stopifnot(diamonds$overMean[1] == 0 && diamonds$overMean[nrow(diamonds)] == 0)\n",
    "# Hint: What about a UDF? Or maybe ifelse()?"
   ]
  },
  {
   "cell_type": "code",
   "execution_count": 12,
   "metadata": {
    "collapsed": false
   },
   "outputs": [
    {
     "data": {
      "text/html": [
       "<table>\n",
       "<thead><tr><th scope=col>cut</th><th scope=col>meanPrice</th><th scope=col>meanVol</th><th scope=col>maxCarat</th><th scope=col>minCarat</th></tr></thead>\n",
       "<tbody>\n",
       "\t<tr><td>Fair     </td><td>4358.758 </td><td>164.9507 </td><td>5.01     </td><td>0.22     </td></tr>\n",
       "\t<tr><td>Good     </td><td>3928.864 </td><td>136.2573 </td><td>3.01     </td><td>0.23     </td></tr>\n",
       "\t<tr><td>Very Good</td><td>3981.760 </td><td>130.9998 </td><td>4.00     </td><td>0.20     </td></tr>\n",
       "\t<tr><td>Premium  </td><td>4584.258 </td><td>145.0521 </td><td>4.01     </td><td>0.20     </td></tr>\n",
       "\t<tr><td>Ideal    </td><td>3457.542 </td><td>115.3949 </td><td>3.50     </td><td>0.20     </td></tr>\n",
       "</tbody>\n",
       "</table>\n"
      ],
      "text/latex": [
       "\\begin{tabular}{r|lllll}\n",
       " cut & meanPrice & meanVol & maxCarat & minCarat\\\\\n",
       "\\hline\n",
       "\t Fair      & 4358.758  & 164.9507  & 5.01      & 0.22     \\\\\n",
       "\t Good      & 3928.864  & 136.2573  & 3.01      & 0.23     \\\\\n",
       "\t Very Good & 3981.760  & 130.9998  & 4.00      & 0.20     \\\\\n",
       "\t Premium   & 4584.258  & 145.0521  & 4.01      & 0.20     \\\\\n",
       "\t Ideal     & 3457.542  & 115.3949  & 3.50      & 0.20     \\\\\n",
       "\\end{tabular}\n"
      ],
      "text/markdown": [
       "\n",
       "cut | meanPrice | meanVol | maxCarat | minCarat | \n",
       "|---|---|---|---|---|\n",
       "| Fair      | 4358.758  | 164.9507  | 5.01      | 0.22      | \n",
       "| Good      | 3928.864  | 136.2573  | 3.01      | 0.23      | \n",
       "| Very Good | 3981.760  | 130.9998  | 4.00      | 0.20      | \n",
       "| Premium   | 4584.258  | 145.0521  | 4.01      | 0.20      | \n",
       "| Ideal     | 3457.542  | 115.3949  | 3.50      | 0.20      | \n",
       "\n",
       "\n"
      ],
      "text/plain": [
       "  cut       meanPrice meanVol  maxCarat minCarat\n",
       "1 Fair      4358.758  164.9507 5.01     0.22    \n",
       "2 Good      3928.864  136.2573 3.01     0.23    \n",
       "3 Very Good 3981.760  130.9998 4.00     0.20    \n",
       "4 Premium   4584.258  145.0521 4.01     0.20    \n",
       "5 Ideal     3457.542  115.3949 3.50     0.20    "
      ]
     },
     "metadata": {},
     "output_type": "display_data"
    }
   ],
   "source": [
    "# Group the dataframe by the cut of the diamond and create\n",
    "# the followng summary statistics...\n",
    "# meanPrice ... the mean price for that group\n",
    "# meanVol ... the average volume for that group\n",
    "# maxCarat ... the maximum carat value\n",
    "# minCarat ... the minimum carat value\n",
    "\n",
    "# Use the piping operator\n",
    "grouped1 <- diamonds %>%\n",
    "            group_by(cut) %>%\n",
    "            summarise(meanPrice = mean(price),\n",
    "                      meanVol = mean(volume),\n",
    "                      maxCarat = max(carat),\n",
    "                      minCarat = min(carat))\n",
    "head(grouped1)\n",
    "\n",
    "stopifnot(grouped1$cut[1] == \"Fair\" & grouped1$minCarat[5] == 0.20)"
   ]
  },
  {
   "cell_type": "code",
   "execution_count": 17,
   "metadata": {
    "collapsed": false
   },
   "outputs": [
    {
     "data": {
      "text/html": [
       "<table>\n",
       "<thead><tr><th scope=col>cut</th><th scope=col>meanPrice</th><th scope=col>meanVol</th><th scope=col>maxCarat</th><th scope=col>minCarat</th><th scope=col>n_D</th><th scope=col>n_J</th></tr></thead>\n",
       "<tbody>\n",
       "\t<tr><td>Fair     </td><td>4358.758 </td><td>164.9507 </td><td>5.01     </td><td>0.22     </td><td> 163     </td><td>119      </td></tr>\n",
       "\t<tr><td>Good     </td><td>3928.864 </td><td>136.2573 </td><td>3.01     </td><td>0.23     </td><td> 662     </td><td>307      </td></tr>\n",
       "\t<tr><td>Very Good</td><td>3981.760 </td><td>130.9998 </td><td>4.00     </td><td>0.20     </td><td>1513     </td><td>678      </td></tr>\n",
       "\t<tr><td>Premium  </td><td>4584.258 </td><td>145.0521 </td><td>4.01     </td><td>0.20     </td><td>1603     </td><td>808      </td></tr>\n",
       "\t<tr><td>Ideal    </td><td>3457.542 </td><td>115.3949 </td><td>3.50     </td><td>0.20     </td><td>2834     </td><td>896      </td></tr>\n",
       "</tbody>\n",
       "</table>\n"
      ],
      "text/latex": [
       "\\begin{tabular}{r|lllllll}\n",
       " cut & meanPrice & meanVol & maxCarat & minCarat & n\\_D & n\\_J\\\\\n",
       "\\hline\n",
       "\t Fair      & 4358.758  & 164.9507  & 5.01      & 0.22      &  163      & 119      \\\\\n",
       "\t Good      & 3928.864  & 136.2573  & 3.01      & 0.23      &  662      & 307      \\\\\n",
       "\t Very Good & 3981.760  & 130.9998  & 4.00      & 0.20      & 1513      & 678      \\\\\n",
       "\t Premium   & 4584.258  & 145.0521  & 4.01      & 0.20      & 1603      & 808      \\\\\n",
       "\t Ideal     & 3457.542  & 115.3949  & 3.50      & 0.20      & 2834      & 896      \\\\\n",
       "\\end{tabular}\n"
      ],
      "text/markdown": [
       "\n",
       "cut | meanPrice | meanVol | maxCarat | minCarat | n_D | n_J | \n",
       "|---|---|---|---|---|\n",
       "| Fair      | 4358.758  | 164.9507  | 5.01      | 0.22      |  163      | 119       | \n",
       "| Good      | 3928.864  | 136.2573  | 3.01      | 0.23      |  662      | 307       | \n",
       "| Very Good | 3981.760  | 130.9998  | 4.00      | 0.20      | 1513      | 678       | \n",
       "| Premium   | 4584.258  | 145.0521  | 4.01      | 0.20      | 1603      | 808       | \n",
       "| Ideal     | 3457.542  | 115.3949  | 3.50      | 0.20      | 2834      | 896       | \n",
       "\n",
       "\n"
      ],
      "text/plain": [
       "  cut       meanPrice meanVol  maxCarat minCarat n_D  n_J\n",
       "1 Fair      4358.758  164.9507 5.01     0.22      163 119\n",
       "2 Good      3928.864  136.2573 3.01     0.23      662 307\n",
       "3 Very Good 3981.760  130.9998 4.00     0.20     1513 678\n",
       "4 Premium   4584.258  145.0521 4.01     0.20     1603 808\n",
       "5 Ideal     3457.542  115.3949 3.50     0.20     2834 896"
      ]
     },
     "metadata": {},
     "output_type": "display_data"
    }
   ],
   "source": [
    "# Do the same grouping again, you can copy/paste your solution,\n",
    "# but add the following summary variables:\n",
    "# n_D ... the number of diamonds with color=\"D\" in each group\n",
    "# n_J ... the number of diamonds with color=\"J\" in each group\n",
    "\n",
    "# To do this, you will need to write a helper function. It should take\n",
    "# the column name and color name as arguments and return the number of elements\n",
    "# in the column that equal that color.\n",
    "helper <- function(column, color){\n",
    "    return(sum(as.numeric(column == color)))\n",
    "}\n",
    "\n",
    "# Copy/paste your old solution here. \n",
    "# Then use your UDF to add the new columns.\n",
    "grouped2 <- diamonds %>%\n",
    "            group_by(cut) %>%\n",
    "            summarise(meanPrice = mean(price),\n",
    "                      meanVol = mean(volume),\n",
    "                      maxCarat = max(carat),\n",
    "                      minCarat = min(carat),\n",
    "                      n_D = helper(color, \"D\"),\n",
    "                      n_J = helper(color, \"J\"))\n",
    "head(grouped2)\n",
    "\n",
    "stopifnot(grouped2$n_D[1] == 163 & grouped2$n_J[1] == 119)"
   ]
  },
  {
   "cell_type": "code",
   "execution_count": null,
   "metadata": {
    "collapsed": true
   },
   "outputs": [],
   "source": []
  }
 ],
 "metadata": {
  "kernelspec": {
   "display_name": "R",
   "language": "R",
   "name": "ir"
  },
  "language_info": {
   "codemirror_mode": "r",
   "file_extension": ".r",
   "mimetype": "text/x-r-source",
   "name": "R",
   "pygments_lexer": "r",
   "version": "3.3.2"
  }
 },
 "nbformat": 4,
 "nbformat_minor": 0
}
