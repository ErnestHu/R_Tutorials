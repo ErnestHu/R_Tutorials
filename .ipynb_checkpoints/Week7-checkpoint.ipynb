{
 "cells": [
  {
   "cell_type": "markdown",
   "metadata": {
    "collapsed": true
   },
   "source": [
    "## Week 7: Review Exam\n",
    "\n",
    "Today's exam will be given through a Google Quiz online. You will have 30 minutes to complete the exam. \n",
    "\n",
    "No references are allowed (no notes on paper, no online references). Jason and Aaron will browse the room to enforce this."
   ]
  },
  {
   "cell_type": "markdown",
   "metadata": {},
   "source": [
    "## Introduction to RStudio\n",
    "\n",
    "### Main Windows\n",
    "<ul>\n",
    "    <li>\n",
    "        Scripting Window: This window is where you will write your R scripts for loading, cleaning, and analysing data. It's where you will do most of your work. You can save these scripts as \".R\" files, but you cannot save your code written in the console window.\n",
    "    </li>\n",
    "    <li>\n",
    "        Console Window: In here, you can test lines of code before putting them into your R script in the Scripting Window. For example, if your script reads in a dataset, it will be available for manipulation in the console. This is often where you can also do \"sanity checks\" like using <code>head()</code>, <code>unique()</code>, and so on.\n",
    "    </li>\n",
    "    <li>\n",
    "        Environment Window: Usually located in the top right, this small window shows the variables and functions that have been assigned or defined in your current session. When you are writing an R script, you should periodically click the brush icon to remove all your variables and functions from the session. Then rerun your script. It is common for R programmers to define a variable only in the Console, forgetting to assign it in the script as well. When someone runs your script, it will fail.\n",
    "    </li>\n",
    "    <li>\n",
    "        Help Window: The window in the bottom right is most often used for the Help menu. Using the search bar, you can find documentation for all the functions in your installed packages. You can browse your installed packages using the \"Packages\" tab. Your data visualizations will appear under the \"Plots\" tab.\n",
    "    </li>\n",
    "</ul>"
   ]
  },
  {
   "cell_type": "markdown",
   "metadata": {},
   "source": [
    "### Tips and Tricks\n",
    "\n",
    "To be a more efficient programmer, here are some tools that novice R programmers often don't learn until later.\n",
    "\n",
    "<ul>\n",
    "    <li>\n",
    "        Place your cursor on a line of code in your scripting window. Pressing ctrl+enter will run this line of code in the console.\n",
    "    </li>\n",
    "    <li>\n",
    "        When in the console, you can rerun your previous commands by pressing the up arrow key on your keyboard. Holding the ctrl key will open a small window where you can scroll through your most recent commands.\n",
    "    </li>\n",
    "    <li>\n",
    "    When filling function parameters in either the Scripting Window or Console, you can press tab within the parenthesis to bring up the function parameters. Using the arrow keys to highlight a parameter will show further documentation on that parameter.\n",
    "    </li>\n",
    "    <li>\n",
    "        Start writing a string, \"\". Put your cursor between these quotes and press <code>tab</code>. A window will pop up with some common directories. Pressing enter will autocomplete the selected directory name.\n",
    "    </li>\n",
    "    <li>\n",
    "        In the Scripting Window, type <code>#####</code>. You should see an arrow appear next to the line number. This creates a segment in your code that can be collapsed. Use these if your script exceeds ~250 lines.\n",
    "    </li>\n",
    "    <li>\n",
    "        Use the <code>View()</code> function in the console with a dataframe as its only argument. RStudio will open a second tab in the Scripting Window, where you can view your dataframe in a neatly formatted view. <em>Note:</em> Don't use this for very large dataframes, as RStudio will likely crash. But you can do this: <code>View(dataframe[1:5000, ])</code>\n",
    "    </li>\n",
    "</ul>"
   ]
  },
  {
   "cell_type": "code",
   "execution_count": null,
   "metadata": {
    "collapsed": true
   },
   "outputs": [],
   "source": []
  }
 ],
 "metadata": {
  "kernelspec": {
   "display_name": "R",
   "language": "R",
   "name": "ir"
  },
  "language_info": {
   "codemirror_mode": "r",
   "file_extension": ".r",
   "mimetype": "text/x-r-source",
   "name": "R",
   "pygments_lexer": "r",
   "version": "3.3.2"
  }
 },
 "nbformat": 4,
 "nbformat_minor": 0
}
